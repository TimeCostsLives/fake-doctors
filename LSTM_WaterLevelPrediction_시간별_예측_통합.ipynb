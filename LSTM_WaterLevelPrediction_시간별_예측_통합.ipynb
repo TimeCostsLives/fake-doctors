{
  "nbformat": 4,
  "nbformat_minor": 0,
  "metadata": {
    "colab": {
      "name": "LSTM_WaterLevelPrediction_시간별 예측 통합.ipynb",
      "provenance": [],
      "collapsed_sections": [],
      "include_colab_link": true
    },
    "kernelspec": {
      "name": "python3",
      "display_name": "Python 3"
    },
    "language_info": {
      "name": "python"
    }
  },
  "cells": [
    {
      "cell_type": "markdown",
      "metadata": {
        "id": "view-in-github",
        "colab_type": "text"
      },
      "source": [
        "<a href=\"https://colab.research.google.com/github/TimeCostsLives/fake-doctors/blob/master/LSTM_WaterLevelPrediction_%EC%8B%9C%EA%B0%84%EB%B3%84_%EC%98%88%EC%B8%A1_%ED%86%B5%ED%95%A9.ipynb\" target=\"_parent\"><img src=\"https://colab.research.google.com/assets/colab-badge.svg\" alt=\"Open In Colab\"/></a>"
      ]
    },
    {
      "cell_type": "code",
      "metadata": {
        "colab": {
          "base_uri": "https://localhost:8080/",
          "height": 300
        },
        "id": "-KJIoeIZudFW",
        "outputId": "c0c877c9-4b64-41e9-b7ee-67b90c8b53dd"
      },
      "source": [
        "from google.colab import drive\n",
        "drive.mount('/content/gdrive/MyDrive/')"
      ],
      "execution_count": 6,
      "outputs": [
        {
          "output_type": "error",
          "ename": "ValueError",
          "evalue": "ignored",
          "traceback": [
            "\u001b[0;31m---------------------------------------------------------------------------\u001b[0m",
            "\u001b[0;31mValueError\u001b[0m                                Traceback (most recent call last)",
            "\u001b[0;32m<ipython-input-6-b891800e8ecb>\u001b[0m in \u001b[0;36m<module>\u001b[0;34m()\u001b[0m\n\u001b[1;32m      1\u001b[0m \u001b[0;32mfrom\u001b[0m \u001b[0mgoogle\u001b[0m\u001b[0;34m.\u001b[0m\u001b[0mcolab\u001b[0m \u001b[0;32mimport\u001b[0m \u001b[0mdrive\u001b[0m\u001b[0;34m\u001b[0m\u001b[0;34m\u001b[0m\u001b[0m\n\u001b[0;32m----> 2\u001b[0;31m \u001b[0mdrive\u001b[0m\u001b[0;34m.\u001b[0m\u001b[0mmount\u001b[0m\u001b[0;34m(\u001b[0m\u001b[0;34m'/content/gdrive/MyDrive/'\u001b[0m\u001b[0;34m)\u001b[0m\u001b[0;34m\u001b[0m\u001b[0;34m\u001b[0m\u001b[0m\n\u001b[0m",
            "\u001b[0;32m/usr/local/lib/python3.7/dist-packages/google/colab/drive.py\u001b[0m in \u001b[0;36mmount\u001b[0;34m(mountpoint, force_remount, timeout_ms, use_metadata_server)\u001b[0m\n\u001b[1;32m    164\u001b[0m     \u001b[0mnormed\u001b[0m \u001b[0;34m=\u001b[0m \u001b[0m_os\u001b[0m\u001b[0;34m.\u001b[0m\u001b[0mpath\u001b[0m\u001b[0;34m.\u001b[0m\u001b[0mnormpath\u001b[0m\u001b[0;34m(\u001b[0m\u001b[0mmountpoint\u001b[0m\u001b[0;34m)\u001b[0m\u001b[0;34m\u001b[0m\u001b[0;34m\u001b[0m\u001b[0m\n\u001b[1;32m    165\u001b[0m     \u001b[0;32mif\u001b[0m \u001b[0;34m'/'\u001b[0m \u001b[0;32min\u001b[0m \u001b[0mnormed\u001b[0m \u001b[0;32mand\u001b[0m \u001b[0;32mnot\u001b[0m \u001b[0m_os\u001b[0m\u001b[0;34m.\u001b[0m\u001b[0mpath\u001b[0m\u001b[0;34m.\u001b[0m\u001b[0mexists\u001b[0m\u001b[0;34m(\u001b[0m\u001b[0m_os\u001b[0m\u001b[0;34m.\u001b[0m\u001b[0mpath\u001b[0m\u001b[0;34m.\u001b[0m\u001b[0mdirname\u001b[0m\u001b[0;34m(\u001b[0m\u001b[0mnormed\u001b[0m\u001b[0;34m)\u001b[0m\u001b[0;34m)\u001b[0m\u001b[0;34m:\u001b[0m\u001b[0;34m\u001b[0m\u001b[0;34m\u001b[0m\u001b[0m\n\u001b[0;32m--> 166\u001b[0;31m       \u001b[0;32mraise\u001b[0m \u001b[0mValueError\u001b[0m\u001b[0;34m(\u001b[0m\u001b[0;34m'Mountpoint must be in a directory that exists'\u001b[0m\u001b[0;34m)\u001b[0m\u001b[0;34m\u001b[0m\u001b[0;34m\u001b[0m\u001b[0m\n\u001b[0m\u001b[1;32m    167\u001b[0m   \u001b[0;32mexcept\u001b[0m\u001b[0;34m:\u001b[0m\u001b[0;34m\u001b[0m\u001b[0;34m\u001b[0m\u001b[0m\n\u001b[1;32m    168\u001b[0m     \u001b[0md\u001b[0m\u001b[0;34m.\u001b[0m\u001b[0mkill\u001b[0m\u001b[0;34m(\u001b[0m\u001b[0m_signal\u001b[0m\u001b[0;34m.\u001b[0m\u001b[0mSIGKILL\u001b[0m\u001b[0;34m)\u001b[0m\u001b[0;34m\u001b[0m\u001b[0;34m\u001b[0m\u001b[0m\n",
            "\u001b[0;31mValueError\u001b[0m: Mountpoint must be in a directory that exists"
          ]
        }
      ]
    },
    {
      "cell_type": "code",
      "metadata": {
        "colab": {
          "base_uri": "https://localhost:8080/"
        },
        "id": "OS__6xP6qCRO",
        "outputId": "a7aedbd8-f4c0-49c5-99ac-d5e9b79721d4"
      },
      "source": [
        "!git init"
      ],
      "execution_count": 24,
      "outputs": [
        {
          "output_type": "stream",
          "text": [
            "Initialized empty Git repository in /content/.git/\n"
          ],
          "name": "stdout"
        }
      ]
    },
    {
      "cell_type": "code",
      "metadata": {
        "id": "k0urAdyYrj-m"
      },
      "source": [
        "!git commit -m 'whole data and model'"
      ],
      "execution_count": null,
      "outputs": []
    },
    {
      "cell_type": "code",
      "metadata": {
        "colab": {
          "base_uri": "https://localhost:8080/"
        },
        "id": "yl18qgaco8ju",
        "outputId": "e95d998a-43c5-4d94-a3e4-ee4edd88c45a"
      },
      "source": [
        "!git clone https://github.com/MovmntR/with-jaewon.git '/gdrive/My Drive/Colab Notebooks/with_jaewon'"
      ],
      "execution_count": 4,
      "outputs": [
        {
          "output_type": "stream",
          "text": [
            "Cloning into '/gdrive/My Drive/Colab Notebooks/with_jaewon'...\n",
            "warning: You appear to have cloned an empty repository.\n"
          ],
          "name": "stdout"
        }
      ]
    },
    {
      "cell_type": "markdown",
      "metadata": {
        "id": "Vaswf1WolxAn"
      },
      "source": [
        "# 0. Preparing"
      ]
    },
    {
      "cell_type": "code",
      "metadata": {
        "id": "Vu6c51n_jphL"
      },
      "source": [
        "import os\n",
        "import pandas as pd\n",
        "import numpy as np\n",
        "import matplotlib.pyplot as plt\n",
        "import datetime\n",
        "from tensorflow.keras.models import Sequential\n",
        "from tensorflow.keras.layers import Dense, LSTM, Dropout, Flatten, Embedding\n",
        "from tensorflow.keras import optimizers\n",
        "from tensorflow.keras.callbacks import EarlyStopping, ModelCheckpoint, TensorBoard\n",
        "from sklearn.preprocessing import MinMaxScaler, StandardScaler\n",
        "from sklearn.model_selection import train_test_split\n",
        "from sklearn.svm import SVR"
      ],
      "execution_count": null,
      "outputs": []
    },
    {
      "cell_type": "code",
      "metadata": {
        "id": "0jeAsSyIhui9",
        "colab": {
          "base_uri": "https://localhost:8080/",
          "height": 204
        },
        "outputId": "fb7e98a9-2f42-42f8-d9ea-14283548a194"
      },
      "source": [
        "df = pd.read_csv('/content/drive/MyDrive/Colab Notebooks/with_jaewon/input_1hr.csv', sep=',')\n",
        "df_3h = pd.read_csv('/content/drive/MyDrive/Colab Notebooks/with_jaewon/input_3hr.csv', sep=',')\n",
        "df_6h = pd.read_csv('/content/drive/MyDrive/Colab Notebooks/with_jaewon/input_6hr.csv', sep=',')\n",
        "\n",
        "df.head()"
      ],
      "execution_count": null,
      "outputs": [
        {
          "output_type": "execute_result",
          "data": {
            "text/html": [
              "<div>\n",
              "<style scoped>\n",
              "    .dataframe tbody tr th:only-of-type {\n",
              "        vertical-align: middle;\n",
              "    }\n",
              "\n",
              "    .dataframe tbody tr th {\n",
              "        vertical-align: top;\n",
              "    }\n",
              "\n",
              "    .dataframe thead th {\n",
              "        text-align: right;\n",
              "    }\n",
              "</style>\n",
              "<table border=\"1\" class=\"dataframe\">\n",
              "  <thead>\n",
              "    <tr style=\"text-align: right;\">\n",
              "      <th></th>\n",
              "      <th>time</th>\n",
              "      <th>HGR</th>\n",
              "      <th>AMC_5d_1h</th>\n",
              "      <th>HGR_1h</th>\n",
              "      <th>HSJ_1h</th>\n",
              "    </tr>\n",
              "  </thead>\n",
              "  <tbody>\n",
              "    <tr>\n",
              "      <th>0</th>\n",
              "      <td>06-6-1 6:00</td>\n",
              "      <td>0.55</td>\n",
              "      <td>0.0</td>\n",
              "      <td>0.55</td>\n",
              "      <td>0.55</td>\n",
              "    </tr>\n",
              "    <tr>\n",
              "      <th>1</th>\n",
              "      <td>06-6-1 6:10</td>\n",
              "      <td>0.55</td>\n",
              "      <td>0.0</td>\n",
              "      <td>0.55</td>\n",
              "      <td>0.55</td>\n",
              "    </tr>\n",
              "    <tr>\n",
              "      <th>2</th>\n",
              "      <td>06-6-1 6:20</td>\n",
              "      <td>0.55</td>\n",
              "      <td>0.0</td>\n",
              "      <td>0.55</td>\n",
              "      <td>0.55</td>\n",
              "    </tr>\n",
              "    <tr>\n",
              "      <th>3</th>\n",
              "      <td>06-6-1 6:30</td>\n",
              "      <td>0.55</td>\n",
              "      <td>0.0</td>\n",
              "      <td>0.55</td>\n",
              "      <td>0.55</td>\n",
              "    </tr>\n",
              "    <tr>\n",
              "      <th>4</th>\n",
              "      <td>06-6-1 6:40</td>\n",
              "      <td>0.55</td>\n",
              "      <td>0.0</td>\n",
              "      <td>0.55</td>\n",
              "      <td>0.55</td>\n",
              "    </tr>\n",
              "  </tbody>\n",
              "</table>\n",
              "</div>"
            ],
            "text/plain": [
              "          time   HGR  AMC_5d_1h  HGR_1h  HSJ_1h\n",
              "0  06-6-1 6:00  0.55        0.0    0.55    0.55\n",
              "1  06-6-1 6:10  0.55        0.0    0.55    0.55\n",
              "2  06-6-1 6:20  0.55        0.0    0.55    0.55\n",
              "3  06-6-1 6:30  0.55        0.0    0.55    0.55\n",
              "4  06-6-1 6:40  0.55        0.0    0.55    0.55"
            ]
          },
          "metadata": {
            "tags": []
          },
          "execution_count": 3
        }
      ]
    },
    {
      "cell_type": "code",
      "metadata": {
        "colab": {
          "base_uri": "https://localhost:8080/"
        },
        "id": "htQadkQfCmXe",
        "outputId": "b6d80411-f77d-4c28-ca72-3c045c7dbe84"
      },
      "source": [
        "print(df.shape)"
      ],
      "execution_count": null,
      "outputs": [
        {
          "output_type": "stream",
          "text": [
            "(263484, 5)\n"
          ],
          "name": "stdout"
        }
      ]
    },
    {
      "cell_type": "code",
      "metadata": {
        "id": "xOQFm4KzltJz",
        "colab": {
          "base_uri": "https://localhost:8080/",
          "height": 204
        },
        "outputId": "3a9ce6c8-be35-4e7b-dbce-66ff97b203e5"
      },
      "source": [
        "df['time'] = np.linspace(0, 1, 263484)\n",
        "df_3h['time'] = np.linspace(0, 1, 263484)\n",
        "df_6h['time'] = np.linspace(0, 1, 263484)\n",
        "\n",
        "df.head()"
      ],
      "execution_count": null,
      "outputs": [
        {
          "output_type": "execute_result",
          "data": {
            "text/html": [
              "<div>\n",
              "<style scoped>\n",
              "    .dataframe tbody tr th:only-of-type {\n",
              "        vertical-align: middle;\n",
              "    }\n",
              "\n",
              "    .dataframe tbody tr th {\n",
              "        vertical-align: top;\n",
              "    }\n",
              "\n",
              "    .dataframe thead th {\n",
              "        text-align: right;\n",
              "    }\n",
              "</style>\n",
              "<table border=\"1\" class=\"dataframe\">\n",
              "  <thead>\n",
              "    <tr style=\"text-align: right;\">\n",
              "      <th></th>\n",
              "      <th>time</th>\n",
              "      <th>HGR</th>\n",
              "      <th>AMC_5d_1h</th>\n",
              "      <th>HGR_1h</th>\n",
              "      <th>HSJ_1h</th>\n",
              "    </tr>\n",
              "  </thead>\n",
              "  <tbody>\n",
              "    <tr>\n",
              "      <th>0</th>\n",
              "      <td>0.000000</td>\n",
              "      <td>0.55</td>\n",
              "      <td>0.0</td>\n",
              "      <td>0.55</td>\n",
              "      <td>0.55</td>\n",
              "    </tr>\n",
              "    <tr>\n",
              "      <th>1</th>\n",
              "      <td>0.000004</td>\n",
              "      <td>0.55</td>\n",
              "      <td>0.0</td>\n",
              "      <td>0.55</td>\n",
              "      <td>0.55</td>\n",
              "    </tr>\n",
              "    <tr>\n",
              "      <th>2</th>\n",
              "      <td>0.000008</td>\n",
              "      <td>0.55</td>\n",
              "      <td>0.0</td>\n",
              "      <td>0.55</td>\n",
              "      <td>0.55</td>\n",
              "    </tr>\n",
              "    <tr>\n",
              "      <th>3</th>\n",
              "      <td>0.000011</td>\n",
              "      <td>0.55</td>\n",
              "      <td>0.0</td>\n",
              "      <td>0.55</td>\n",
              "      <td>0.55</td>\n",
              "    </tr>\n",
              "    <tr>\n",
              "      <th>4</th>\n",
              "      <td>0.000015</td>\n",
              "      <td>0.55</td>\n",
              "      <td>0.0</td>\n",
              "      <td>0.55</td>\n",
              "      <td>0.55</td>\n",
              "    </tr>\n",
              "  </tbody>\n",
              "</table>\n",
              "</div>"
            ],
            "text/plain": [
              "       time   HGR  AMC_5d_1h  HGR_1h  HSJ_1h\n",
              "0  0.000000  0.55        0.0    0.55    0.55\n",
              "1  0.000004  0.55        0.0    0.55    0.55\n",
              "2  0.000008  0.55        0.0    0.55    0.55\n",
              "3  0.000011  0.55        0.0    0.55    0.55\n",
              "4  0.000015  0.55        0.0    0.55    0.55"
            ]
          },
          "metadata": {
            "tags": []
          },
          "execution_count": 5
        }
      ]
    },
    {
      "cell_type": "code",
      "metadata": {
        "id": "YQeuuizWiELP",
        "colab": {
          "base_uri": "https://localhost:8080/",
          "height": 231
        },
        "outputId": "d19149ed-0c2a-4dac-a02d-83bd4d8858db"
      },
      "source": [
        "# 스케일링\n",
        "\n",
        "scaler = MinMaxScaler()\n",
        "scale_cols = ['time','HGR','AMC_5d_1h', 'HGR_1h', 'HSJ_1h']\n",
        "df_scaled = scaler.fit_transform(df[scale_cols])\n",
        "df_scaled = pd.DataFrame(df_scaled)\n",
        "df_scaled.columns = scale_cols"
      ],
      "execution_count": null,
      "outputs": [
        {
          "output_type": "error",
          "ename": "NameError",
          "evalue": "ignored",
          "traceback": [
            "\u001b[0;31m---------------------------------------------------------------------------\u001b[0m",
            "\u001b[0;31mNameError\u001b[0m                                 Traceback (most recent call last)",
            "\u001b[0;32m<ipython-input-1-1736267fad71>\u001b[0m in \u001b[0;36m<module>\u001b[0;34m()\u001b[0m\n\u001b[1;32m      1\u001b[0m \u001b[0;31m# 스케일링\u001b[0m\u001b[0;34m\u001b[0m\u001b[0;34m\u001b[0m\u001b[0;34m\u001b[0m\u001b[0m\n\u001b[1;32m      2\u001b[0m \u001b[0;34m\u001b[0m\u001b[0m\n\u001b[0;32m----> 3\u001b[0;31m \u001b[0mscaler\u001b[0m \u001b[0;34m=\u001b[0m \u001b[0mMinMaxScaler\u001b[0m\u001b[0;34m(\u001b[0m\u001b[0;34m)\u001b[0m\u001b[0;34m\u001b[0m\u001b[0;34m\u001b[0m\u001b[0m\n\u001b[0m\u001b[1;32m      4\u001b[0m \u001b[0mscale_cols\u001b[0m \u001b[0;34m=\u001b[0m \u001b[0;34m[\u001b[0m\u001b[0;34m'time'\u001b[0m\u001b[0;34m,\u001b[0m\u001b[0;34m'HGR'\u001b[0m\u001b[0;34m,\u001b[0m\u001b[0;34m'AMC_5d_1h'\u001b[0m\u001b[0;34m,\u001b[0m \u001b[0;34m'HGR_1h'\u001b[0m\u001b[0;34m,\u001b[0m \u001b[0;34m'HSJ_1h'\u001b[0m\u001b[0;34m]\u001b[0m\u001b[0;34m\u001b[0m\u001b[0;34m\u001b[0m\u001b[0m\n\u001b[1;32m      5\u001b[0m \u001b[0mdf_scaled\u001b[0m \u001b[0;34m=\u001b[0m \u001b[0mscaler\u001b[0m\u001b[0;34m.\u001b[0m\u001b[0mfit_transform\u001b[0m\u001b[0;34m(\u001b[0m\u001b[0mdf\u001b[0m\u001b[0;34m[\u001b[0m\u001b[0mscale_cols\u001b[0m\u001b[0;34m]\u001b[0m\u001b[0;34m)\u001b[0m\u001b[0;34m\u001b[0m\u001b[0;34m\u001b[0m\u001b[0m\n",
            "\u001b[0;31mNameError\u001b[0m: name 'MinMaxScaler' is not defined"
          ]
        }
      ]
    },
    {
      "cell_type": "code",
      "metadata": {
        "id": "IiE8O5jJDRdK"
      },
      "source": [
        "scale_cols_3h = ['time','HGR','AMC_5d_3h', 'HGR_3h', 'HSJ_3h']\n",
        "df_scaled_3h = scaler.fit_transform(df_3h[scale_cols_3h])\n",
        "df_scaled_3h = pd.DataFrame(df_scaled_3h)\n",
        "df_scaled_3h.columns = scale_cols_3h"
      ],
      "execution_count": null,
      "outputs": []
    },
    {
      "cell_type": "code",
      "metadata": {
        "colab": {
          "base_uri": "https://localhost:8080/"
        },
        "id": "-0l-wtqyDSaL",
        "outputId": "5dd250b3-980a-4f1c-f684-3e2f5448b6e8"
      },
      "source": [
        "scale_cols_6h = ['time','HGR','AMC_5d_6h', 'HGR_6h', 'HSJ_6h']\n",
        "df_scaled_6h = scaler.fit_transform(df_6h[scale_cols_6h])\n",
        "df_scaled_6h = pd.DataFrame(df_scaled_6h)\n",
        "df_scaled_6h.columns = scale_cols_6h\n",
        "\n",
        "df_scaled_6h.head()"
      ],
      "execution_count": null,
      "outputs": [
        {
          "output_type": "execute_result",
          "data": {
            "text/plain": [
              "(263484, 5)"
            ]
          },
          "metadata": {
            "tags": []
          },
          "execution_count": 54
        }
      ]
    },
    {
      "cell_type": "code",
      "metadata": {
        "id": "XfcnlfgOFh2h"
      },
      "source": [
        "# X - y 구분\n",
        "\n",
        "X_df = df_scaled.drop(['HGR'], axis=1)\n",
        "y_df = df_scaled[['HGR']]\n",
        "\n",
        "X_df_3h = df_scaled_3h.drop(['HGR'], axis=1)\n",
        "y_df_3h = df_scaled_3h[['HGR']]\n",
        "\n",
        "X_df_6h = df_scaled_6h.drop(['HGR'], axis=1)\n",
        "y_df_6h = df_scaled_6h[['HGR']]"
      ],
      "execution_count": null,
      "outputs": []
    },
    {
      "cell_type": "code",
      "metadata": {
        "id": "JlKRw6Lwnvi1",
        "colab": {
          "base_uri": "https://localhost:8080/"
        },
        "outputId": "c4fc9434-df71-411d-87a8-149f81e35a11"
      },
      "source": [
        "# 시리얼 데이터셋\n",
        "\n",
        "def make_dataset(data_set, label_set, window_size=1):\n",
        "  X_list = []\n",
        "  y_list = []\n",
        "  for i in range(len(data_set)-window_size):\n",
        "    X_list.append(np.array(data_set.iloc[i:i+window_size]))\n",
        "    y_list.append(np.array(label_set.iloc[i+window_size]))\n",
        "  return np.array(X_list), np.array(y_list)\n",
        "\n",
        "X_data, y_data = make_dataset(X_df, y_df, 6)\n",
        "X_data_3h, y_data_3h = make_dataset(X_df, y_df, 6)\n",
        "X_data_6h, y_data_6h = make_dataset(X_df_6h, y_df_6h, 6)\n",
        "\n",
        "X_data_6h.shape, y_data_6h.shape"
      ],
      "execution_count": null,
      "outputs": [
        {
          "output_type": "execute_result",
          "data": {
            "text/plain": [
              "((263478, 6, 4), (263478, 1))"
            ]
          },
          "metadata": {
            "tags": []
          },
          "execution_count": 10
        }
      ]
    },
    {
      "cell_type": "code",
      "metadata": {
        "id": "mQOxlwzDlDmb",
        "colab": {
          "base_uri": "https://localhost:8080/"
        },
        "outputId": "3dbfc567-8b68-4b91-91d3-ccbc13028779"
      },
      "source": [
        "# 데이터셋 구분\n",
        "\n",
        "row = 210780\n",
        "\n",
        "X_train = X_data[:row]\n",
        "X_test = X_data[row:]\n",
        "y_train = y_data[:row]\n",
        "y_test = y_data[row:]\n",
        "\n",
        "X_train_3h = X_data_3h[:row]\n",
        "X_test_3h = X_data_3h[row:]\n",
        "y_train_3h = y_data_3h[:row]\n",
        "y_test_3h = y_data_3h[row:]\n",
        "\n",
        "X_train_6h = X_data_6h[:row]\n",
        "X_test_6h = X_data_6h[row:]\n",
        "y_train_6h = y_data_6h[:row]\n",
        "y_test_6h = y_data_6h[row:]\n",
        "\n",
        "X_train, X_valid, y_train, y_valid = train_test_split(X_train, y_train, test_size=0.2)\n",
        "X_train_3h, X_valid_3h, y_train_3h, y_valid_3h = train_test_split(X_train_3h, y_train_3h, test_size=0.2)\n",
        "X_train_6h, X_valid_6h, y_train_6h, y_valid_6h = train_test_split(X_train_6h, y_train_6h, test_size=0.2)\n",
        "\n",
        "X_train_6h.shape, y_train_6h.shape, X_valid_6h.shape, y_valid_6h.shape, X_test_6h.shape, y_test_6h.shape"
      ],
      "execution_count": null,
      "outputs": [
        {
          "output_type": "execute_result",
          "data": {
            "text/plain": [
              "((168624, 6, 4),\n",
              " (168624, 1),\n",
              " (42156, 6, 4),\n",
              " (42156, 1),\n",
              " (52698, 6, 4),\n",
              " (52698, 1))"
            ]
          },
          "metadata": {
            "tags": []
          },
          "execution_count": 11
        }
      ]
    },
    {
      "cell_type": "markdown",
      "metadata": {
        "id": "snIHVvSxUbFK"
      },
      "source": [
        "# 1-1. Trainning : LSTM"
      ]
    },
    {
      "cell_type": "code",
      "metadata": {
        "id": "CYVhfe1EEW1R"
      },
      "source": [
        "rm -rf ./logs/"
      ],
      "execution_count": null,
      "outputs": []
    },
    {
      "cell_type": "code",
      "metadata": {
        "id": "zMuuKg1uc4d3"
      },
      "source": [
        "EP = 10       # Epochs\n",
        "BS = 32       # Batch_size\n",
        "LR = 0.00001  # Learning_Rate\n"
      ],
      "execution_count": null,
      "outputs": []
    },
    {
      "cell_type": "code",
      "metadata": {
        "id": "v8wiGfav1mWy",
        "colab": {
          "base_uri": "https://localhost:8080/"
        },
        "outputId": "41c923a1-f4ec-40df-f25d-3585399b08a3"
      },
      "source": [
        "# LSTM 모델\n",
        "\n",
        "model = Sequential()\n",
        "model.add(LSTM(4, input_shape=(6,4)))\n",
        "model.add(Dense(1))\n",
        "\n",
        "checkpoint_dir = os.path.join('/content/drive/MyDrive/Colab Notebooks/with_jaewon/checkPoint/training_before_1h/cp.ckpt')\n",
        "model_check = ModelCheckpoint(filepath=checkpoint_dir, monitor='val_loss', mode='auto', verbose=1, save_best_only=True)\n",
        "\n",
        "model.compile(optimizer=optimizers.Adam(learning_rate=LR), loss='mean_squared_error')\n",
        "history = model.fit(X_train, y_train, validation_data=(X_valid, y_valid), epochs=EP, batch_size=BS, callbacks=model_check)"
      ],
      "execution_count": null,
      "outputs": [
        {
          "output_type": "stream",
          "text": [
            "Epoch 1/10\n",
            "5270/5270 [==============================] - 20s 3ms/step - loss: 0.0061 - val_loss: 0.0038\n",
            "\n",
            "Epoch 00001: val_loss improved from inf to 0.00382, saving model to /content/drive/MyDrive/Colab Notebooks/with_jaewon/checkPoint/training_before_1h/cp.ckpt\n"
          ],
          "name": "stdout"
        },
        {
          "output_type": "stream",
          "text": [
            "WARNING:absl:Found untraced functions such as lstm_cell_layer_call_fn, lstm_cell_layer_call_and_return_conditional_losses, lstm_cell_layer_call_fn, lstm_cell_layer_call_and_return_conditional_losses, lstm_cell_layer_call_and_return_conditional_losses while saving (showing 5 of 5). These functions will not be directly callable after loading.\n",
            "WARNING:absl:Found untraced functions such as lstm_cell_layer_call_fn, lstm_cell_layer_call_and_return_conditional_losses, lstm_cell_layer_call_fn, lstm_cell_layer_call_and_return_conditional_losses, lstm_cell_layer_call_and_return_conditional_losses while saving (showing 5 of 5). These functions will not be directly callable after loading.\n"
          ],
          "name": "stderr"
        },
        {
          "output_type": "stream",
          "text": [
            "INFO:tensorflow:Assets written to: /content/drive/MyDrive/Colab Notebooks/with_jaewon/checkPoint/training_before_1h/cp.ckpt/assets\n"
          ],
          "name": "stdout"
        },
        {
          "output_type": "stream",
          "text": [
            "INFO:tensorflow:Assets written to: /content/drive/MyDrive/Colab Notebooks/with_jaewon/checkPoint/training_before_1h/cp.ckpt/assets\n"
          ],
          "name": "stderr"
        },
        {
          "output_type": "stream",
          "text": [
            "Epoch 2/10\n",
            "5270/5270 [==============================] - 17s 3ms/step - loss: 0.0034 - val_loss: 0.0022\n",
            "\n",
            "Epoch 00002: val_loss improved from 0.00382 to 0.00221, saving model to /content/drive/MyDrive/Colab Notebooks/with_jaewon/checkPoint/training_before_1h/cp.ckpt\n"
          ],
          "name": "stdout"
        },
        {
          "output_type": "stream",
          "text": [
            "WARNING:absl:Found untraced functions such as lstm_cell_layer_call_fn, lstm_cell_layer_call_and_return_conditional_losses, lstm_cell_layer_call_fn, lstm_cell_layer_call_and_return_conditional_losses, lstm_cell_layer_call_and_return_conditional_losses while saving (showing 5 of 5). These functions will not be directly callable after loading.\n",
            "WARNING:absl:Found untraced functions such as lstm_cell_layer_call_fn, lstm_cell_layer_call_and_return_conditional_losses, lstm_cell_layer_call_fn, lstm_cell_layer_call_and_return_conditional_losses, lstm_cell_layer_call_and_return_conditional_losses while saving (showing 5 of 5). These functions will not be directly callable after loading.\n"
          ],
          "name": "stderr"
        },
        {
          "output_type": "stream",
          "text": [
            "INFO:tensorflow:Assets written to: /content/drive/MyDrive/Colab Notebooks/with_jaewon/checkPoint/training_before_1h/cp.ckpt/assets\n"
          ],
          "name": "stdout"
        },
        {
          "output_type": "stream",
          "text": [
            "INFO:tensorflow:Assets written to: /content/drive/MyDrive/Colab Notebooks/with_jaewon/checkPoint/training_before_1h/cp.ckpt/assets\n"
          ],
          "name": "stderr"
        },
        {
          "output_type": "stream",
          "text": [
            "Epoch 3/10\n",
            "5270/5270 [==============================] - 17s 3ms/step - loss: 0.0020 - val_loss: 0.0012\n",
            "\n",
            "Epoch 00003: val_loss improved from 0.00221 to 0.00125, saving model to /content/drive/MyDrive/Colab Notebooks/with_jaewon/checkPoint/training_before_1h/cp.ckpt\n"
          ],
          "name": "stdout"
        },
        {
          "output_type": "stream",
          "text": [
            "WARNING:absl:Found untraced functions such as lstm_cell_layer_call_fn, lstm_cell_layer_call_and_return_conditional_losses, lstm_cell_layer_call_fn, lstm_cell_layer_call_and_return_conditional_losses, lstm_cell_layer_call_and_return_conditional_losses while saving (showing 5 of 5). These functions will not be directly callable after loading.\n",
            "WARNING:absl:Found untraced functions such as lstm_cell_layer_call_fn, lstm_cell_layer_call_and_return_conditional_losses, lstm_cell_layer_call_fn, lstm_cell_layer_call_and_return_conditional_losses, lstm_cell_layer_call_and_return_conditional_losses while saving (showing 5 of 5). These functions will not be directly callable after loading.\n"
          ],
          "name": "stderr"
        },
        {
          "output_type": "stream",
          "text": [
            "INFO:tensorflow:Assets written to: /content/drive/MyDrive/Colab Notebooks/with_jaewon/checkPoint/training_before_1h/cp.ckpt/assets\n"
          ],
          "name": "stdout"
        },
        {
          "output_type": "stream",
          "text": [
            "INFO:tensorflow:Assets written to: /content/drive/MyDrive/Colab Notebooks/with_jaewon/checkPoint/training_before_1h/cp.ckpt/assets\n"
          ],
          "name": "stderr"
        },
        {
          "output_type": "stream",
          "text": [
            "Epoch 4/10\n",
            "5270/5270 [==============================] - 17s 3ms/step - loss: 0.0011 - val_loss: 7.0926e-04\n",
            "\n",
            "Epoch 00004: val_loss improved from 0.00125 to 0.00071, saving model to /content/drive/MyDrive/Colab Notebooks/with_jaewon/checkPoint/training_before_1h/cp.ckpt\n"
          ],
          "name": "stdout"
        },
        {
          "output_type": "stream",
          "text": [
            "WARNING:absl:Found untraced functions such as lstm_cell_layer_call_fn, lstm_cell_layer_call_and_return_conditional_losses, lstm_cell_layer_call_fn, lstm_cell_layer_call_and_return_conditional_losses, lstm_cell_layer_call_and_return_conditional_losses while saving (showing 5 of 5). These functions will not be directly callable after loading.\n",
            "WARNING:absl:Found untraced functions such as lstm_cell_layer_call_fn, lstm_cell_layer_call_and_return_conditional_losses, lstm_cell_layer_call_fn, lstm_cell_layer_call_and_return_conditional_losses, lstm_cell_layer_call_and_return_conditional_losses while saving (showing 5 of 5). These functions will not be directly callable after loading.\n"
          ],
          "name": "stderr"
        },
        {
          "output_type": "stream",
          "text": [
            "INFO:tensorflow:Assets written to: /content/drive/MyDrive/Colab Notebooks/with_jaewon/checkPoint/training_before_1h/cp.ckpt/assets\n"
          ],
          "name": "stdout"
        },
        {
          "output_type": "stream",
          "text": [
            "INFO:tensorflow:Assets written to: /content/drive/MyDrive/Colab Notebooks/with_jaewon/checkPoint/training_before_1h/cp.ckpt/assets\n"
          ],
          "name": "stderr"
        },
        {
          "output_type": "stream",
          "text": [
            "Epoch 5/10\n",
            "5270/5270 [==============================] - 17s 3ms/step - loss: 6.1832e-04 - val_loss: 4.0028e-04\n",
            "\n",
            "Epoch 00005: val_loss improved from 0.00071 to 0.00040, saving model to /content/drive/MyDrive/Colab Notebooks/with_jaewon/checkPoint/training_before_1h/cp.ckpt\n"
          ],
          "name": "stdout"
        },
        {
          "output_type": "stream",
          "text": [
            "WARNING:absl:Found untraced functions such as lstm_cell_layer_call_fn, lstm_cell_layer_call_and_return_conditional_losses, lstm_cell_layer_call_fn, lstm_cell_layer_call_and_return_conditional_losses, lstm_cell_layer_call_and_return_conditional_losses while saving (showing 5 of 5). These functions will not be directly callable after loading.\n",
            "WARNING:absl:Found untraced functions such as lstm_cell_layer_call_fn, lstm_cell_layer_call_and_return_conditional_losses, lstm_cell_layer_call_fn, lstm_cell_layer_call_and_return_conditional_losses, lstm_cell_layer_call_and_return_conditional_losses while saving (showing 5 of 5). These functions will not be directly callable after loading.\n"
          ],
          "name": "stderr"
        },
        {
          "output_type": "stream",
          "text": [
            "INFO:tensorflow:Assets written to: /content/drive/MyDrive/Colab Notebooks/with_jaewon/checkPoint/training_before_1h/cp.ckpt/assets\n"
          ],
          "name": "stdout"
        },
        {
          "output_type": "stream",
          "text": [
            "INFO:tensorflow:Assets written to: /content/drive/MyDrive/Colab Notebooks/with_jaewon/checkPoint/training_before_1h/cp.ckpt/assets\n"
          ],
          "name": "stderr"
        },
        {
          "output_type": "stream",
          "text": [
            "Epoch 6/10\n",
            "5270/5270 [==============================] - 17s 3ms/step - loss: 3.4586e-04 - val_loss: 2.2259e-04\n",
            "\n",
            "Epoch 00006: val_loss improved from 0.00040 to 0.00022, saving model to /content/drive/MyDrive/Colab Notebooks/with_jaewon/checkPoint/training_before_1h/cp.ckpt\n"
          ],
          "name": "stdout"
        },
        {
          "output_type": "stream",
          "text": [
            "WARNING:absl:Found untraced functions such as lstm_cell_layer_call_fn, lstm_cell_layer_call_and_return_conditional_losses, lstm_cell_layer_call_fn, lstm_cell_layer_call_and_return_conditional_losses, lstm_cell_layer_call_and_return_conditional_losses while saving (showing 5 of 5). These functions will not be directly callable after loading.\n",
            "WARNING:absl:Found untraced functions such as lstm_cell_layer_call_fn, lstm_cell_layer_call_and_return_conditional_losses, lstm_cell_layer_call_fn, lstm_cell_layer_call_and_return_conditional_losses, lstm_cell_layer_call_and_return_conditional_losses while saving (showing 5 of 5). These functions will not be directly callable after loading.\n"
          ],
          "name": "stderr"
        },
        {
          "output_type": "stream",
          "text": [
            "INFO:tensorflow:Assets written to: /content/drive/MyDrive/Colab Notebooks/with_jaewon/checkPoint/training_before_1h/cp.ckpt/assets\n"
          ],
          "name": "stdout"
        },
        {
          "output_type": "stream",
          "text": [
            "INFO:tensorflow:Assets written to: /content/drive/MyDrive/Colab Notebooks/with_jaewon/checkPoint/training_before_1h/cp.ckpt/assets\n"
          ],
          "name": "stderr"
        },
        {
          "output_type": "stream",
          "text": [
            "Epoch 7/10\n",
            "5270/5270 [==============================] - 17s 3ms/step - loss: 1.9266e-04 - val_loss: 1.3301e-04\n",
            "\n",
            "Epoch 00007: val_loss improved from 0.00022 to 0.00013, saving model to /content/drive/MyDrive/Colab Notebooks/with_jaewon/checkPoint/training_before_1h/cp.ckpt\n"
          ],
          "name": "stdout"
        },
        {
          "output_type": "stream",
          "text": [
            "WARNING:absl:Found untraced functions such as lstm_cell_layer_call_fn, lstm_cell_layer_call_and_return_conditional_losses, lstm_cell_layer_call_fn, lstm_cell_layer_call_and_return_conditional_losses, lstm_cell_layer_call_and_return_conditional_losses while saving (showing 5 of 5). These functions will not be directly callable after loading.\n",
            "WARNING:absl:Found untraced functions such as lstm_cell_layer_call_fn, lstm_cell_layer_call_and_return_conditional_losses, lstm_cell_layer_call_fn, lstm_cell_layer_call_and_return_conditional_losses, lstm_cell_layer_call_and_return_conditional_losses while saving (showing 5 of 5). These functions will not be directly callable after loading.\n"
          ],
          "name": "stderr"
        },
        {
          "output_type": "stream",
          "text": [
            "INFO:tensorflow:Assets written to: /content/drive/MyDrive/Colab Notebooks/with_jaewon/checkPoint/training_before_1h/cp.ckpt/assets\n"
          ],
          "name": "stdout"
        },
        {
          "output_type": "stream",
          "text": [
            "INFO:tensorflow:Assets written to: /content/drive/MyDrive/Colab Notebooks/with_jaewon/checkPoint/training_before_1h/cp.ckpt/assets\n"
          ],
          "name": "stderr"
        },
        {
          "output_type": "stream",
          "text": [
            "Epoch 8/10\n",
            "5270/5270 [==============================] - 17s 3ms/step - loss: 1.2266e-04 - val_loss: 9.7692e-05\n",
            "\n",
            "Epoch 00008: val_loss improved from 0.00013 to 0.00010, saving model to /content/drive/MyDrive/Colab Notebooks/with_jaewon/checkPoint/training_before_1h/cp.ckpt\n"
          ],
          "name": "stdout"
        },
        {
          "output_type": "stream",
          "text": [
            "WARNING:absl:Found untraced functions such as lstm_cell_layer_call_fn, lstm_cell_layer_call_and_return_conditional_losses, lstm_cell_layer_call_fn, lstm_cell_layer_call_and_return_conditional_losses, lstm_cell_layer_call_and_return_conditional_losses while saving (showing 5 of 5). These functions will not be directly callable after loading.\n",
            "WARNING:absl:Found untraced functions such as lstm_cell_layer_call_fn, lstm_cell_layer_call_and_return_conditional_losses, lstm_cell_layer_call_fn, lstm_cell_layer_call_and_return_conditional_losses, lstm_cell_layer_call_and_return_conditional_losses while saving (showing 5 of 5). These functions will not be directly callable after loading.\n"
          ],
          "name": "stderr"
        },
        {
          "output_type": "stream",
          "text": [
            "INFO:tensorflow:Assets written to: /content/drive/MyDrive/Colab Notebooks/with_jaewon/checkPoint/training_before_1h/cp.ckpt/assets\n"
          ],
          "name": "stdout"
        },
        {
          "output_type": "stream",
          "text": [
            "INFO:tensorflow:Assets written to: /content/drive/MyDrive/Colab Notebooks/with_jaewon/checkPoint/training_before_1h/cp.ckpt/assets\n"
          ],
          "name": "stderr"
        },
        {
          "output_type": "stream",
          "text": [
            "Epoch 9/10\n",
            "5270/5270 [==============================] - 17s 3ms/step - loss: 9.5103e-05 - val_loss: 8.6393e-05\n",
            "\n",
            "Epoch 00009: val_loss improved from 0.00010 to 0.00009, saving model to /content/drive/MyDrive/Colab Notebooks/with_jaewon/checkPoint/training_before_1h/cp.ckpt\n"
          ],
          "name": "stdout"
        },
        {
          "output_type": "stream",
          "text": [
            "WARNING:absl:Found untraced functions such as lstm_cell_layer_call_fn, lstm_cell_layer_call_and_return_conditional_losses, lstm_cell_layer_call_fn, lstm_cell_layer_call_and_return_conditional_losses, lstm_cell_layer_call_and_return_conditional_losses while saving (showing 5 of 5). These functions will not be directly callable after loading.\n",
            "WARNING:absl:Found untraced functions such as lstm_cell_layer_call_fn, lstm_cell_layer_call_and_return_conditional_losses, lstm_cell_layer_call_fn, lstm_cell_layer_call_and_return_conditional_losses, lstm_cell_layer_call_and_return_conditional_losses while saving (showing 5 of 5). These functions will not be directly callable after loading.\n"
          ],
          "name": "stderr"
        },
        {
          "output_type": "stream",
          "text": [
            "INFO:tensorflow:Assets written to: /content/drive/MyDrive/Colab Notebooks/with_jaewon/checkPoint/training_before_1h/cp.ckpt/assets\n"
          ],
          "name": "stdout"
        },
        {
          "output_type": "stream",
          "text": [
            "INFO:tensorflow:Assets written to: /content/drive/MyDrive/Colab Notebooks/with_jaewon/checkPoint/training_before_1h/cp.ckpt/assets\n"
          ],
          "name": "stderr"
        },
        {
          "output_type": "stream",
          "text": [
            "Epoch 10/10\n",
            "5270/5270 [==============================] - 17s 3ms/step - loss: 8.8589e-05 - val_loss: 8.2395e-05\n",
            "\n",
            "Epoch 00010: val_loss improved from 0.00009 to 0.00008, saving model to /content/drive/MyDrive/Colab Notebooks/with_jaewon/checkPoint/training_before_1h/cp.ckpt\n"
          ],
          "name": "stdout"
        },
        {
          "output_type": "stream",
          "text": [
            "WARNING:absl:Found untraced functions such as lstm_cell_layer_call_fn, lstm_cell_layer_call_and_return_conditional_losses, lstm_cell_layer_call_fn, lstm_cell_layer_call_and_return_conditional_losses, lstm_cell_layer_call_and_return_conditional_losses while saving (showing 5 of 5). These functions will not be directly callable after loading.\n",
            "WARNING:absl:Found untraced functions such as lstm_cell_layer_call_fn, lstm_cell_layer_call_and_return_conditional_losses, lstm_cell_layer_call_fn, lstm_cell_layer_call_and_return_conditional_losses, lstm_cell_layer_call_and_return_conditional_losses while saving (showing 5 of 5). These functions will not be directly callable after loading.\n"
          ],
          "name": "stderr"
        },
        {
          "output_type": "stream",
          "text": [
            "INFO:tensorflow:Assets written to: /content/drive/MyDrive/Colab Notebooks/with_jaewon/checkPoint/training_before_1h/cp.ckpt/assets\n"
          ],
          "name": "stdout"
        },
        {
          "output_type": "stream",
          "text": [
            "INFO:tensorflow:Assets written to: /content/drive/MyDrive/Colab Notebooks/with_jaewon/checkPoint/training_before_1h/cp.ckpt/assets\n"
          ],
          "name": "stderr"
        }
      ]
    },
    {
      "cell_type": "code",
      "metadata": {
        "id": "C5YyZVyed9R9"
      },
      "source": [
        "rm -rf ./logs/"
      ],
      "execution_count": null,
      "outputs": []
    },
    {
      "cell_type": "code",
      "metadata": {
        "colab": {
          "base_uri": "https://localhost:8080/"
        },
        "id": "vBVA95bn97ru",
        "outputId": "6681f641-fa8f-45f0-b118-b51db1f1d29c"
      },
      "source": [
        "model_3h = Sequential()\n",
        "model_3h.add(LSTM(4, input_shape=(6,4)))\n",
        "model_3h.add(Dense(1))\n",
        "\n",
        "checkpoint_dir = os.path.join('/content/drive/MyDrive/Colab Notebooks/with_jaewon/checkPoint/training_before_3h/cp.ckpt')\n",
        "model_check = ModelCheckpoint(filepath=checkpoint_dir, monitor='val_loss', mode='auto', verbose=1, save_best_only=True)\n",
        "\n",
        "model_3h.compile(optimizer=optimizers.Adam(learning_rate=LR), loss='mean_squared_error')\n",
        "history_3h = model_3h.fit(X_train_3h, y_train_3h, validation_data=(X_valid_3h, y_valid_3h), epochs=EP, batch_size=BS, callbacks=model_check)"
      ],
      "execution_count": null,
      "outputs": [
        {
          "output_type": "stream",
          "text": [
            "Epoch 1/10\n",
            "5270/5270 [==============================] - 19s 3ms/step - loss: 0.0095 - val_loss: 0.0066\n",
            "\n",
            "Epoch 00001: val_loss improved from inf to 0.00656, saving model to /content/drive/MyDrive/Colab Notebooks/with_jaewon/checkPoint/training_before_3h/cp.ckpt\n"
          ],
          "name": "stdout"
        },
        {
          "output_type": "stream",
          "text": [
            "WARNING:absl:Found untraced functions such as lstm_cell_2_layer_call_fn, lstm_cell_2_layer_call_and_return_conditional_losses, lstm_cell_2_layer_call_fn, lstm_cell_2_layer_call_and_return_conditional_losses, lstm_cell_2_layer_call_and_return_conditional_losses while saving (showing 5 of 5). These functions will not be directly callable after loading.\n",
            "WARNING:absl:Found untraced functions such as lstm_cell_2_layer_call_fn, lstm_cell_2_layer_call_and_return_conditional_losses, lstm_cell_2_layer_call_fn, lstm_cell_2_layer_call_and_return_conditional_losses, lstm_cell_2_layer_call_and_return_conditional_losses while saving (showing 5 of 5). These functions will not be directly callable after loading.\n"
          ],
          "name": "stderr"
        },
        {
          "output_type": "stream",
          "text": [
            "INFO:tensorflow:Assets written to: /content/drive/MyDrive/Colab Notebooks/with_jaewon/checkPoint/training_before_3h/cp.ckpt/assets\n"
          ],
          "name": "stdout"
        },
        {
          "output_type": "stream",
          "text": [
            "INFO:tensorflow:Assets written to: /content/drive/MyDrive/Colab Notebooks/with_jaewon/checkPoint/training_before_3h/cp.ckpt/assets\n"
          ],
          "name": "stderr"
        },
        {
          "output_type": "stream",
          "text": [
            "Epoch 2/10\n",
            "5270/5270 [==============================] - 18s 3ms/step - loss: 0.0058 - val_loss: 0.0042\n",
            "\n",
            "Epoch 00002: val_loss improved from 0.00656 to 0.00417, saving model to /content/drive/MyDrive/Colab Notebooks/with_jaewon/checkPoint/training_before_3h/cp.ckpt\n"
          ],
          "name": "stdout"
        },
        {
          "output_type": "stream",
          "text": [
            "WARNING:absl:Found untraced functions such as lstm_cell_2_layer_call_fn, lstm_cell_2_layer_call_and_return_conditional_losses, lstm_cell_2_layer_call_fn, lstm_cell_2_layer_call_and_return_conditional_losses, lstm_cell_2_layer_call_and_return_conditional_losses while saving (showing 5 of 5). These functions will not be directly callable after loading.\n",
            "WARNING:absl:Found untraced functions such as lstm_cell_2_layer_call_fn, lstm_cell_2_layer_call_and_return_conditional_losses, lstm_cell_2_layer_call_fn, lstm_cell_2_layer_call_and_return_conditional_losses, lstm_cell_2_layer_call_and_return_conditional_losses while saving (showing 5 of 5). These functions will not be directly callable after loading.\n"
          ],
          "name": "stderr"
        },
        {
          "output_type": "stream",
          "text": [
            "INFO:tensorflow:Assets written to: /content/drive/MyDrive/Colab Notebooks/with_jaewon/checkPoint/training_before_3h/cp.ckpt/assets\n"
          ],
          "name": "stdout"
        },
        {
          "output_type": "stream",
          "text": [
            "INFO:tensorflow:Assets written to: /content/drive/MyDrive/Colab Notebooks/with_jaewon/checkPoint/training_before_3h/cp.ckpt/assets\n"
          ],
          "name": "stderr"
        },
        {
          "output_type": "stream",
          "text": [
            "Epoch 3/10\n",
            "5270/5270 [==============================] - 18s 3ms/step - loss: 0.0036 - val_loss: 0.0023\n",
            "\n",
            "Epoch 00003: val_loss improved from 0.00417 to 0.00228, saving model to /content/drive/MyDrive/Colab Notebooks/with_jaewon/checkPoint/training_before_3h/cp.ckpt\n"
          ],
          "name": "stdout"
        },
        {
          "output_type": "stream",
          "text": [
            "WARNING:absl:Found untraced functions such as lstm_cell_2_layer_call_fn, lstm_cell_2_layer_call_and_return_conditional_losses, lstm_cell_2_layer_call_fn, lstm_cell_2_layer_call_and_return_conditional_losses, lstm_cell_2_layer_call_and_return_conditional_losses while saving (showing 5 of 5). These functions will not be directly callable after loading.\n",
            "WARNING:absl:Found untraced functions such as lstm_cell_2_layer_call_fn, lstm_cell_2_layer_call_and_return_conditional_losses, lstm_cell_2_layer_call_fn, lstm_cell_2_layer_call_and_return_conditional_losses, lstm_cell_2_layer_call_and_return_conditional_losses while saving (showing 5 of 5). These functions will not be directly callable after loading.\n"
          ],
          "name": "stderr"
        },
        {
          "output_type": "stream",
          "text": [
            "INFO:tensorflow:Assets written to: /content/drive/MyDrive/Colab Notebooks/with_jaewon/checkPoint/training_before_3h/cp.ckpt/assets\n"
          ],
          "name": "stdout"
        },
        {
          "output_type": "stream",
          "text": [
            "INFO:tensorflow:Assets written to: /content/drive/MyDrive/Colab Notebooks/with_jaewon/checkPoint/training_before_3h/cp.ckpt/assets\n"
          ],
          "name": "stderr"
        },
        {
          "output_type": "stream",
          "text": [
            "Epoch 4/10\n",
            "5270/5270 [==============================] - 18s 3ms/step - loss: 0.0018 - val_loss: 9.1347e-04\n",
            "\n",
            "Epoch 00004: val_loss improved from 0.00228 to 0.00091, saving model to /content/drive/MyDrive/Colab Notebooks/with_jaewon/checkPoint/training_before_3h/cp.ckpt\n"
          ],
          "name": "stdout"
        },
        {
          "output_type": "stream",
          "text": [
            "WARNING:absl:Found untraced functions such as lstm_cell_2_layer_call_fn, lstm_cell_2_layer_call_and_return_conditional_losses, lstm_cell_2_layer_call_fn, lstm_cell_2_layer_call_and_return_conditional_losses, lstm_cell_2_layer_call_and_return_conditional_losses while saving (showing 5 of 5). These functions will not be directly callable after loading.\n",
            "WARNING:absl:Found untraced functions such as lstm_cell_2_layer_call_fn, lstm_cell_2_layer_call_and_return_conditional_losses, lstm_cell_2_layer_call_fn, lstm_cell_2_layer_call_and_return_conditional_losses, lstm_cell_2_layer_call_and_return_conditional_losses while saving (showing 5 of 5). These functions will not be directly callable after loading.\n"
          ],
          "name": "stderr"
        },
        {
          "output_type": "stream",
          "text": [
            "INFO:tensorflow:Assets written to: /content/drive/MyDrive/Colab Notebooks/with_jaewon/checkPoint/training_before_3h/cp.ckpt/assets\n"
          ],
          "name": "stdout"
        },
        {
          "output_type": "stream",
          "text": [
            "INFO:tensorflow:Assets written to: /content/drive/MyDrive/Colab Notebooks/with_jaewon/checkPoint/training_before_3h/cp.ckpt/assets\n"
          ],
          "name": "stderr"
        },
        {
          "output_type": "stream",
          "text": [
            "Epoch 5/10\n",
            "5270/5270 [==============================] - 17s 3ms/step - loss: 7.3890e-04 - val_loss: 4.3249e-04\n",
            "\n",
            "Epoch 00005: val_loss improved from 0.00091 to 0.00043, saving model to /content/drive/MyDrive/Colab Notebooks/with_jaewon/checkPoint/training_before_3h/cp.ckpt\n"
          ],
          "name": "stdout"
        },
        {
          "output_type": "stream",
          "text": [
            "WARNING:absl:Found untraced functions such as lstm_cell_2_layer_call_fn, lstm_cell_2_layer_call_and_return_conditional_losses, lstm_cell_2_layer_call_fn, lstm_cell_2_layer_call_and_return_conditional_losses, lstm_cell_2_layer_call_and_return_conditional_losses while saving (showing 5 of 5). These functions will not be directly callable after loading.\n",
            "WARNING:absl:Found untraced functions such as lstm_cell_2_layer_call_fn, lstm_cell_2_layer_call_and_return_conditional_losses, lstm_cell_2_layer_call_fn, lstm_cell_2_layer_call_and_return_conditional_losses, lstm_cell_2_layer_call_and_return_conditional_losses while saving (showing 5 of 5). These functions will not be directly callable after loading.\n"
          ],
          "name": "stderr"
        },
        {
          "output_type": "stream",
          "text": [
            "INFO:tensorflow:Assets written to: /content/drive/MyDrive/Colab Notebooks/with_jaewon/checkPoint/training_before_3h/cp.ckpt/assets\n"
          ],
          "name": "stdout"
        },
        {
          "output_type": "stream",
          "text": [
            "INFO:tensorflow:Assets written to: /content/drive/MyDrive/Colab Notebooks/with_jaewon/checkPoint/training_before_3h/cp.ckpt/assets\n"
          ],
          "name": "stderr"
        },
        {
          "output_type": "stream",
          "text": [
            "Epoch 6/10\n",
            "5270/5270 [==============================] - 17s 3ms/step - loss: 3.7154e-04 - val_loss: 2.6075e-04\n",
            "\n",
            "Epoch 00006: val_loss improved from 0.00043 to 0.00026, saving model to /content/drive/MyDrive/Colab Notebooks/with_jaewon/checkPoint/training_before_3h/cp.ckpt\n"
          ],
          "name": "stdout"
        },
        {
          "output_type": "stream",
          "text": [
            "WARNING:absl:Found untraced functions such as lstm_cell_2_layer_call_fn, lstm_cell_2_layer_call_and_return_conditional_losses, lstm_cell_2_layer_call_fn, lstm_cell_2_layer_call_and_return_conditional_losses, lstm_cell_2_layer_call_and_return_conditional_losses while saving (showing 5 of 5). These functions will not be directly callable after loading.\n",
            "WARNING:absl:Found untraced functions such as lstm_cell_2_layer_call_fn, lstm_cell_2_layer_call_and_return_conditional_losses, lstm_cell_2_layer_call_fn, lstm_cell_2_layer_call_and_return_conditional_losses, lstm_cell_2_layer_call_and_return_conditional_losses while saving (showing 5 of 5). These functions will not be directly callable after loading.\n"
          ],
          "name": "stderr"
        },
        {
          "output_type": "stream",
          "text": [
            "INFO:tensorflow:Assets written to: /content/drive/MyDrive/Colab Notebooks/with_jaewon/checkPoint/training_before_3h/cp.ckpt/assets\n"
          ],
          "name": "stdout"
        },
        {
          "output_type": "stream",
          "text": [
            "INFO:tensorflow:Assets written to: /content/drive/MyDrive/Colab Notebooks/with_jaewon/checkPoint/training_before_3h/cp.ckpt/assets\n"
          ],
          "name": "stderr"
        },
        {
          "output_type": "stream",
          "text": [
            "Epoch 7/10\n",
            "5270/5270 [==============================] - 17s 3ms/step - loss: 2.3402e-04 - val_loss: 1.8133e-04\n",
            "\n",
            "Epoch 00007: val_loss improved from 0.00026 to 0.00018, saving model to /content/drive/MyDrive/Colab Notebooks/with_jaewon/checkPoint/training_before_3h/cp.ckpt\n"
          ],
          "name": "stdout"
        },
        {
          "output_type": "stream",
          "text": [
            "WARNING:absl:Found untraced functions such as lstm_cell_2_layer_call_fn, lstm_cell_2_layer_call_and_return_conditional_losses, lstm_cell_2_layer_call_fn, lstm_cell_2_layer_call_and_return_conditional_losses, lstm_cell_2_layer_call_and_return_conditional_losses while saving (showing 5 of 5). These functions will not be directly callable after loading.\n",
            "WARNING:absl:Found untraced functions such as lstm_cell_2_layer_call_fn, lstm_cell_2_layer_call_and_return_conditional_losses, lstm_cell_2_layer_call_fn, lstm_cell_2_layer_call_and_return_conditional_losses, lstm_cell_2_layer_call_and_return_conditional_losses while saving (showing 5 of 5). These functions will not be directly callable after loading.\n"
          ],
          "name": "stderr"
        },
        {
          "output_type": "stream",
          "text": [
            "INFO:tensorflow:Assets written to: /content/drive/MyDrive/Colab Notebooks/with_jaewon/checkPoint/training_before_3h/cp.ckpt/assets\n"
          ],
          "name": "stdout"
        },
        {
          "output_type": "stream",
          "text": [
            "INFO:tensorflow:Assets written to: /content/drive/MyDrive/Colab Notebooks/with_jaewon/checkPoint/training_before_3h/cp.ckpt/assets\n"
          ],
          "name": "stderr"
        },
        {
          "output_type": "stream",
          "text": [
            "Epoch 8/10\n",
            "5270/5270 [==============================] - 18s 3ms/step - loss: 1.6896e-04 - val_loss: 1.5130e-04\n",
            "\n",
            "Epoch 00008: val_loss improved from 0.00018 to 0.00015, saving model to /content/drive/MyDrive/Colab Notebooks/with_jaewon/checkPoint/training_before_3h/cp.ckpt\n"
          ],
          "name": "stdout"
        },
        {
          "output_type": "stream",
          "text": [
            "WARNING:absl:Found untraced functions such as lstm_cell_2_layer_call_fn, lstm_cell_2_layer_call_and_return_conditional_losses, lstm_cell_2_layer_call_fn, lstm_cell_2_layer_call_and_return_conditional_losses, lstm_cell_2_layer_call_and_return_conditional_losses while saving (showing 5 of 5). These functions will not be directly callable after loading.\n",
            "WARNING:absl:Found untraced functions such as lstm_cell_2_layer_call_fn, lstm_cell_2_layer_call_and_return_conditional_losses, lstm_cell_2_layer_call_fn, lstm_cell_2_layer_call_and_return_conditional_losses, lstm_cell_2_layer_call_and_return_conditional_losses while saving (showing 5 of 5). These functions will not be directly callable after loading.\n"
          ],
          "name": "stderr"
        },
        {
          "output_type": "stream",
          "text": [
            "INFO:tensorflow:Assets written to: /content/drive/MyDrive/Colab Notebooks/with_jaewon/checkPoint/training_before_3h/cp.ckpt/assets\n"
          ],
          "name": "stdout"
        },
        {
          "output_type": "stream",
          "text": [
            "INFO:tensorflow:Assets written to: /content/drive/MyDrive/Colab Notebooks/with_jaewon/checkPoint/training_before_3h/cp.ckpt/assets\n"
          ],
          "name": "stderr"
        },
        {
          "output_type": "stream",
          "text": [
            "Epoch 9/10\n",
            "5270/5270 [==============================] - 18s 3ms/step - loss: 1.4526e-04 - val_loss: 1.3975e-04\n",
            "\n",
            "Epoch 00009: val_loss improved from 0.00015 to 0.00014, saving model to /content/drive/MyDrive/Colab Notebooks/with_jaewon/checkPoint/training_before_3h/cp.ckpt\n"
          ],
          "name": "stdout"
        },
        {
          "output_type": "stream",
          "text": [
            "WARNING:absl:Found untraced functions such as lstm_cell_2_layer_call_fn, lstm_cell_2_layer_call_and_return_conditional_losses, lstm_cell_2_layer_call_fn, lstm_cell_2_layer_call_and_return_conditional_losses, lstm_cell_2_layer_call_and_return_conditional_losses while saving (showing 5 of 5). These functions will not be directly callable after loading.\n",
            "WARNING:absl:Found untraced functions such as lstm_cell_2_layer_call_fn, lstm_cell_2_layer_call_and_return_conditional_losses, lstm_cell_2_layer_call_fn, lstm_cell_2_layer_call_and_return_conditional_losses, lstm_cell_2_layer_call_and_return_conditional_losses while saving (showing 5 of 5). These functions will not be directly callable after loading.\n"
          ],
          "name": "stderr"
        },
        {
          "output_type": "stream",
          "text": [
            "INFO:tensorflow:Assets written to: /content/drive/MyDrive/Colab Notebooks/with_jaewon/checkPoint/training_before_3h/cp.ckpt/assets\n"
          ],
          "name": "stdout"
        },
        {
          "output_type": "stream",
          "text": [
            "INFO:tensorflow:Assets written to: /content/drive/MyDrive/Colab Notebooks/with_jaewon/checkPoint/training_before_3h/cp.ckpt/assets\n"
          ],
          "name": "stderr"
        },
        {
          "output_type": "stream",
          "text": [
            "Epoch 10/10\n",
            "5270/5270 [==============================] - 19s 4ms/step - loss: 1.3546e-04 - val_loss: 1.3307e-04\n",
            "\n",
            "Epoch 00010: val_loss improved from 0.00014 to 0.00013, saving model to /content/drive/MyDrive/Colab Notebooks/with_jaewon/checkPoint/training_before_3h/cp.ckpt\n"
          ],
          "name": "stdout"
        },
        {
          "output_type": "stream",
          "text": [
            "WARNING:absl:Found untraced functions such as lstm_cell_2_layer_call_fn, lstm_cell_2_layer_call_and_return_conditional_losses, lstm_cell_2_layer_call_fn, lstm_cell_2_layer_call_and_return_conditional_losses, lstm_cell_2_layer_call_and_return_conditional_losses while saving (showing 5 of 5). These functions will not be directly callable after loading.\n",
            "WARNING:absl:Found untraced functions such as lstm_cell_2_layer_call_fn, lstm_cell_2_layer_call_and_return_conditional_losses, lstm_cell_2_layer_call_fn, lstm_cell_2_layer_call_and_return_conditional_losses, lstm_cell_2_layer_call_and_return_conditional_losses while saving (showing 5 of 5). These functions will not be directly callable after loading.\n"
          ],
          "name": "stderr"
        },
        {
          "output_type": "stream",
          "text": [
            "INFO:tensorflow:Assets written to: /content/drive/MyDrive/Colab Notebooks/with_jaewon/checkPoint/training_before_3h/cp.ckpt/assets\n"
          ],
          "name": "stdout"
        },
        {
          "output_type": "stream",
          "text": [
            "INFO:tensorflow:Assets written to: /content/drive/MyDrive/Colab Notebooks/with_jaewon/checkPoint/training_before_3h/cp.ckpt/assets\n"
          ],
          "name": "stderr"
        }
      ]
    },
    {
      "cell_type": "code",
      "metadata": {
        "id": "0bvnT6JZdmSS"
      },
      "source": [
        "rm -rf ./logs/"
      ],
      "execution_count": null,
      "outputs": []
    },
    {
      "cell_type": "code",
      "metadata": {
        "colab": {
          "base_uri": "https://localhost:8080/"
        },
        "id": "rcyvOE6fb6CA",
        "outputId": "ea3d5383-cfaf-4ae6-8838-136693c54f1d"
      },
      "source": [
        "model_6h = Sequential()\n",
        "model_6h.add(LSTM(4, input_shape=(6,4)))\n",
        "model_6h.add(Dense(1))\n",
        "\n",
        "checkpoint_dir = os.path.join('/content/drive/MyDrive/Colab Notebooks/with_jaewon/checkPoint/training_before_6h/cp.ckpt')\n",
        "model_check = ModelCheckpoint(filepath=checkpoint_dir, monitor='val_loss', mode='auto', verbose=1, save_best_only=True)\n",
        "\n",
        "model_6h.compile(optimizer=optimizers.Adam(learning_rate=LR), loss='mean_squared_error')\n",
        "history_6h = model_6h.fit(X_train_6h, y_train_6h, validation_data=(X_valid_6h, y_valid_6h), epochs=EP, batch_size=BS, callbacks=model_check)"
      ],
      "execution_count": null,
      "outputs": [
        {
          "output_type": "stream",
          "text": [
            "Epoch 1/10\n",
            "5270/5270 [==============================] - 20s 4ms/step - loss: 0.0424 - val_loss: 0.0094\n",
            "\n",
            "Epoch 00001: val_loss improved from inf to 0.00937, saving model to /content/drive/MyDrive/Colab Notebooks/with_jaewon/checkPoint/training_before_6h/cp.ckpt\n"
          ],
          "name": "stdout"
        },
        {
          "output_type": "stream",
          "text": [
            "WARNING:absl:Found untraced functions such as lstm_cell_3_layer_call_fn, lstm_cell_3_layer_call_and_return_conditional_losses, lstm_cell_3_layer_call_fn, lstm_cell_3_layer_call_and_return_conditional_losses, lstm_cell_3_layer_call_and_return_conditional_losses while saving (showing 5 of 5). These functions will not be directly callable after loading.\n",
            "WARNING:absl:Found untraced functions such as lstm_cell_3_layer_call_fn, lstm_cell_3_layer_call_and_return_conditional_losses, lstm_cell_3_layer_call_fn, lstm_cell_3_layer_call_and_return_conditional_losses, lstm_cell_3_layer_call_and_return_conditional_losses while saving (showing 5 of 5). These functions will not be directly callable after loading.\n"
          ],
          "name": "stderr"
        },
        {
          "output_type": "stream",
          "text": [
            "INFO:tensorflow:Assets written to: /content/drive/MyDrive/Colab Notebooks/with_jaewon/checkPoint/training_before_6h/cp.ckpt/assets\n"
          ],
          "name": "stdout"
        },
        {
          "output_type": "stream",
          "text": [
            "INFO:tensorflow:Assets written to: /content/drive/MyDrive/Colab Notebooks/with_jaewon/checkPoint/training_before_6h/cp.ckpt/assets\n"
          ],
          "name": "stderr"
        },
        {
          "output_type": "stream",
          "text": [
            "Epoch 2/10\n",
            "5270/5270 [==============================] - 18s 3ms/step - loss: 0.0072 - val_loss: 0.0044\n",
            "\n",
            "Epoch 00002: val_loss improved from 0.00937 to 0.00435, saving model to /content/drive/MyDrive/Colab Notebooks/with_jaewon/checkPoint/training_before_6h/cp.ckpt\n"
          ],
          "name": "stdout"
        },
        {
          "output_type": "stream",
          "text": [
            "WARNING:absl:Found untraced functions such as lstm_cell_3_layer_call_fn, lstm_cell_3_layer_call_and_return_conditional_losses, lstm_cell_3_layer_call_fn, lstm_cell_3_layer_call_and_return_conditional_losses, lstm_cell_3_layer_call_and_return_conditional_losses while saving (showing 5 of 5). These functions will not be directly callable after loading.\n",
            "WARNING:absl:Found untraced functions such as lstm_cell_3_layer_call_fn, lstm_cell_3_layer_call_and_return_conditional_losses, lstm_cell_3_layer_call_fn, lstm_cell_3_layer_call_and_return_conditional_losses, lstm_cell_3_layer_call_and_return_conditional_losses while saving (showing 5 of 5). These functions will not be directly callable after loading.\n"
          ],
          "name": "stderr"
        },
        {
          "output_type": "stream",
          "text": [
            "INFO:tensorflow:Assets written to: /content/drive/MyDrive/Colab Notebooks/with_jaewon/checkPoint/training_before_6h/cp.ckpt/assets\n"
          ],
          "name": "stdout"
        },
        {
          "output_type": "stream",
          "text": [
            "INFO:tensorflow:Assets written to: /content/drive/MyDrive/Colab Notebooks/with_jaewon/checkPoint/training_before_6h/cp.ckpt/assets\n"
          ],
          "name": "stderr"
        },
        {
          "output_type": "stream",
          "text": [
            "Epoch 3/10\n",
            "5270/5270 [==============================] - 17s 3ms/step - loss: 0.0037 - val_loss: 0.0020\n",
            "\n",
            "Epoch 00003: val_loss improved from 0.00435 to 0.00204, saving model to /content/drive/MyDrive/Colab Notebooks/with_jaewon/checkPoint/training_before_6h/cp.ckpt\n"
          ],
          "name": "stdout"
        },
        {
          "output_type": "stream",
          "text": [
            "WARNING:absl:Found untraced functions such as lstm_cell_3_layer_call_fn, lstm_cell_3_layer_call_and_return_conditional_losses, lstm_cell_3_layer_call_fn, lstm_cell_3_layer_call_and_return_conditional_losses, lstm_cell_3_layer_call_and_return_conditional_losses while saving (showing 5 of 5). These functions will not be directly callable after loading.\n",
            "WARNING:absl:Found untraced functions such as lstm_cell_3_layer_call_fn, lstm_cell_3_layer_call_and_return_conditional_losses, lstm_cell_3_layer_call_fn, lstm_cell_3_layer_call_and_return_conditional_losses, lstm_cell_3_layer_call_and_return_conditional_losses while saving (showing 5 of 5). These functions will not be directly callable after loading.\n"
          ],
          "name": "stderr"
        },
        {
          "output_type": "stream",
          "text": [
            "INFO:tensorflow:Assets written to: /content/drive/MyDrive/Colab Notebooks/with_jaewon/checkPoint/training_before_6h/cp.ckpt/assets\n"
          ],
          "name": "stdout"
        },
        {
          "output_type": "stream",
          "text": [
            "INFO:tensorflow:Assets written to: /content/drive/MyDrive/Colab Notebooks/with_jaewon/checkPoint/training_before_6h/cp.ckpt/assets\n"
          ],
          "name": "stderr"
        },
        {
          "output_type": "stream",
          "text": [
            "Epoch 4/10\n",
            "5270/5270 [==============================] - 17s 3ms/step - loss: 0.0017 - val_loss: 8.4222e-04\n",
            "\n",
            "Epoch 00004: val_loss improved from 0.00204 to 0.00084, saving model to /content/drive/MyDrive/Colab Notebooks/with_jaewon/checkPoint/training_before_6h/cp.ckpt\n"
          ],
          "name": "stdout"
        },
        {
          "output_type": "stream",
          "text": [
            "WARNING:absl:Found untraced functions such as lstm_cell_3_layer_call_fn, lstm_cell_3_layer_call_and_return_conditional_losses, lstm_cell_3_layer_call_fn, lstm_cell_3_layer_call_and_return_conditional_losses, lstm_cell_3_layer_call_and_return_conditional_losses while saving (showing 5 of 5). These functions will not be directly callable after loading.\n",
            "WARNING:absl:Found untraced functions such as lstm_cell_3_layer_call_fn, lstm_cell_3_layer_call_and_return_conditional_losses, lstm_cell_3_layer_call_fn, lstm_cell_3_layer_call_and_return_conditional_losses, lstm_cell_3_layer_call_and_return_conditional_losses while saving (showing 5 of 5). These functions will not be directly callable after loading.\n"
          ],
          "name": "stderr"
        },
        {
          "output_type": "stream",
          "text": [
            "INFO:tensorflow:Assets written to: /content/drive/MyDrive/Colab Notebooks/with_jaewon/checkPoint/training_before_6h/cp.ckpt/assets\n"
          ],
          "name": "stdout"
        },
        {
          "output_type": "stream",
          "text": [
            "INFO:tensorflow:Assets written to: /content/drive/MyDrive/Colab Notebooks/with_jaewon/checkPoint/training_before_6h/cp.ckpt/assets\n"
          ],
          "name": "stderr"
        },
        {
          "output_type": "stream",
          "text": [
            "Epoch 5/10\n",
            "5270/5270 [==============================] - 17s 3ms/step - loss: 7.4093e-04 - val_loss: 6.2872e-04\n",
            "\n",
            "Epoch 00005: val_loss improved from 0.00084 to 0.00063, saving model to /content/drive/MyDrive/Colab Notebooks/with_jaewon/checkPoint/training_before_6h/cp.ckpt\n"
          ],
          "name": "stdout"
        },
        {
          "output_type": "stream",
          "text": [
            "WARNING:absl:Found untraced functions such as lstm_cell_3_layer_call_fn, lstm_cell_3_layer_call_and_return_conditional_losses, lstm_cell_3_layer_call_fn, lstm_cell_3_layer_call_and_return_conditional_losses, lstm_cell_3_layer_call_and_return_conditional_losses while saving (showing 5 of 5). These functions will not be directly callable after loading.\n",
            "WARNING:absl:Found untraced functions such as lstm_cell_3_layer_call_fn, lstm_cell_3_layer_call_and_return_conditional_losses, lstm_cell_3_layer_call_fn, lstm_cell_3_layer_call_and_return_conditional_losses, lstm_cell_3_layer_call_and_return_conditional_losses while saving (showing 5 of 5). These functions will not be directly callable after loading.\n"
          ],
          "name": "stderr"
        },
        {
          "output_type": "stream",
          "text": [
            "INFO:tensorflow:Assets written to: /content/drive/MyDrive/Colab Notebooks/with_jaewon/checkPoint/training_before_6h/cp.ckpt/assets\n"
          ],
          "name": "stdout"
        },
        {
          "output_type": "stream",
          "text": [
            "INFO:tensorflow:Assets written to: /content/drive/MyDrive/Colab Notebooks/with_jaewon/checkPoint/training_before_6h/cp.ckpt/assets\n"
          ],
          "name": "stderr"
        },
        {
          "output_type": "stream",
          "text": [
            "Epoch 6/10\n",
            "5270/5270 [==============================] - 17s 3ms/step - loss: 6.5983e-04 - val_loss: 5.8987e-04\n",
            "\n",
            "Epoch 00006: val_loss improved from 0.00063 to 0.00059, saving model to /content/drive/MyDrive/Colab Notebooks/with_jaewon/checkPoint/training_before_6h/cp.ckpt\n"
          ],
          "name": "stdout"
        },
        {
          "output_type": "stream",
          "text": [
            "WARNING:absl:Found untraced functions such as lstm_cell_3_layer_call_fn, lstm_cell_3_layer_call_and_return_conditional_losses, lstm_cell_3_layer_call_fn, lstm_cell_3_layer_call_and_return_conditional_losses, lstm_cell_3_layer_call_and_return_conditional_losses while saving (showing 5 of 5). These functions will not be directly callable after loading.\n",
            "WARNING:absl:Found untraced functions such as lstm_cell_3_layer_call_fn, lstm_cell_3_layer_call_and_return_conditional_losses, lstm_cell_3_layer_call_fn, lstm_cell_3_layer_call_and_return_conditional_losses, lstm_cell_3_layer_call_and_return_conditional_losses while saving (showing 5 of 5). These functions will not be directly callable after loading.\n"
          ],
          "name": "stderr"
        },
        {
          "output_type": "stream",
          "text": [
            "INFO:tensorflow:Assets written to: /content/drive/MyDrive/Colab Notebooks/with_jaewon/checkPoint/training_before_6h/cp.ckpt/assets\n"
          ],
          "name": "stdout"
        },
        {
          "output_type": "stream",
          "text": [
            "INFO:tensorflow:Assets written to: /content/drive/MyDrive/Colab Notebooks/with_jaewon/checkPoint/training_before_6h/cp.ckpt/assets\n"
          ],
          "name": "stderr"
        },
        {
          "output_type": "stream",
          "text": [
            "Epoch 7/10\n",
            "5270/5270 [==============================] - 17s 3ms/step - loss: 6.1781e-04 - val_loss: 5.6927e-04\n",
            "\n",
            "Epoch 00007: val_loss improved from 0.00059 to 0.00057, saving model to /content/drive/MyDrive/Colab Notebooks/with_jaewon/checkPoint/training_before_6h/cp.ckpt\n"
          ],
          "name": "stdout"
        },
        {
          "output_type": "stream",
          "text": [
            "WARNING:absl:Found untraced functions such as lstm_cell_3_layer_call_fn, lstm_cell_3_layer_call_and_return_conditional_losses, lstm_cell_3_layer_call_fn, lstm_cell_3_layer_call_and_return_conditional_losses, lstm_cell_3_layer_call_and_return_conditional_losses while saving (showing 5 of 5). These functions will not be directly callable after loading.\n",
            "WARNING:absl:Found untraced functions such as lstm_cell_3_layer_call_fn, lstm_cell_3_layer_call_and_return_conditional_losses, lstm_cell_3_layer_call_fn, lstm_cell_3_layer_call_and_return_conditional_losses, lstm_cell_3_layer_call_and_return_conditional_losses while saving (showing 5 of 5). These functions will not be directly callable after loading.\n"
          ],
          "name": "stderr"
        },
        {
          "output_type": "stream",
          "text": [
            "INFO:tensorflow:Assets written to: /content/drive/MyDrive/Colab Notebooks/with_jaewon/checkPoint/training_before_6h/cp.ckpt/assets\n"
          ],
          "name": "stdout"
        },
        {
          "output_type": "stream",
          "text": [
            "INFO:tensorflow:Assets written to: /content/drive/MyDrive/Colab Notebooks/with_jaewon/checkPoint/training_before_6h/cp.ckpt/assets\n"
          ],
          "name": "stderr"
        },
        {
          "output_type": "stream",
          "text": [
            "Epoch 8/10\n",
            "5270/5270 [==============================] - 17s 3ms/step - loss: 6.0680e-04 - val_loss: 5.5655e-04\n",
            "\n",
            "Epoch 00008: val_loss improved from 0.00057 to 0.00056, saving model to /content/drive/MyDrive/Colab Notebooks/with_jaewon/checkPoint/training_before_6h/cp.ckpt\n"
          ],
          "name": "stdout"
        },
        {
          "output_type": "stream",
          "text": [
            "WARNING:absl:Found untraced functions such as lstm_cell_3_layer_call_fn, lstm_cell_3_layer_call_and_return_conditional_losses, lstm_cell_3_layer_call_fn, lstm_cell_3_layer_call_and_return_conditional_losses, lstm_cell_3_layer_call_and_return_conditional_losses while saving (showing 5 of 5). These functions will not be directly callable after loading.\n",
            "WARNING:absl:Found untraced functions such as lstm_cell_3_layer_call_fn, lstm_cell_3_layer_call_and_return_conditional_losses, lstm_cell_3_layer_call_fn, lstm_cell_3_layer_call_and_return_conditional_losses, lstm_cell_3_layer_call_and_return_conditional_losses while saving (showing 5 of 5). These functions will not be directly callable after loading.\n"
          ],
          "name": "stderr"
        },
        {
          "output_type": "stream",
          "text": [
            "INFO:tensorflow:Assets written to: /content/drive/MyDrive/Colab Notebooks/with_jaewon/checkPoint/training_before_6h/cp.ckpt/assets\n"
          ],
          "name": "stdout"
        },
        {
          "output_type": "stream",
          "text": [
            "INFO:tensorflow:Assets written to: /content/drive/MyDrive/Colab Notebooks/with_jaewon/checkPoint/training_before_6h/cp.ckpt/assets\n"
          ],
          "name": "stderr"
        },
        {
          "output_type": "stream",
          "text": [
            "Epoch 9/10\n",
            "5270/5270 [==============================] - 17s 3ms/step - loss: 5.9707e-04 - val_loss: 5.4792e-04\n",
            "\n",
            "Epoch 00009: val_loss improved from 0.00056 to 0.00055, saving model to /content/drive/MyDrive/Colab Notebooks/with_jaewon/checkPoint/training_before_6h/cp.ckpt\n"
          ],
          "name": "stdout"
        },
        {
          "output_type": "stream",
          "text": [
            "WARNING:absl:Found untraced functions such as lstm_cell_3_layer_call_fn, lstm_cell_3_layer_call_and_return_conditional_losses, lstm_cell_3_layer_call_fn, lstm_cell_3_layer_call_and_return_conditional_losses, lstm_cell_3_layer_call_and_return_conditional_losses while saving (showing 5 of 5). These functions will not be directly callable after loading.\n",
            "WARNING:absl:Found untraced functions such as lstm_cell_3_layer_call_fn, lstm_cell_3_layer_call_and_return_conditional_losses, lstm_cell_3_layer_call_fn, lstm_cell_3_layer_call_and_return_conditional_losses, lstm_cell_3_layer_call_and_return_conditional_losses while saving (showing 5 of 5). These functions will not be directly callable after loading.\n"
          ],
          "name": "stderr"
        },
        {
          "output_type": "stream",
          "text": [
            "INFO:tensorflow:Assets written to: /content/drive/MyDrive/Colab Notebooks/with_jaewon/checkPoint/training_before_6h/cp.ckpt/assets\n"
          ],
          "name": "stdout"
        },
        {
          "output_type": "stream",
          "text": [
            "INFO:tensorflow:Assets written to: /content/drive/MyDrive/Colab Notebooks/with_jaewon/checkPoint/training_before_6h/cp.ckpt/assets\n"
          ],
          "name": "stderr"
        },
        {
          "output_type": "stream",
          "text": [
            "Epoch 10/10\n",
            "5270/5270 [==============================] - 17s 3ms/step - loss: 5.7344e-04 - val_loss: 5.4128e-04\n",
            "\n",
            "Epoch 00010: val_loss improved from 0.00055 to 0.00054, saving model to /content/drive/MyDrive/Colab Notebooks/with_jaewon/checkPoint/training_before_6h/cp.ckpt\n"
          ],
          "name": "stdout"
        },
        {
          "output_type": "stream",
          "text": [
            "WARNING:absl:Found untraced functions such as lstm_cell_3_layer_call_fn, lstm_cell_3_layer_call_and_return_conditional_losses, lstm_cell_3_layer_call_fn, lstm_cell_3_layer_call_and_return_conditional_losses, lstm_cell_3_layer_call_and_return_conditional_losses while saving (showing 5 of 5). These functions will not be directly callable after loading.\n",
            "WARNING:absl:Found untraced functions such as lstm_cell_3_layer_call_fn, lstm_cell_3_layer_call_and_return_conditional_losses, lstm_cell_3_layer_call_fn, lstm_cell_3_layer_call_and_return_conditional_losses, lstm_cell_3_layer_call_and_return_conditional_losses while saving (showing 5 of 5). These functions will not be directly callable after loading.\n"
          ],
          "name": "stderr"
        },
        {
          "output_type": "stream",
          "text": [
            "INFO:tensorflow:Assets written to: /content/drive/MyDrive/Colab Notebooks/with_jaewon/checkPoint/training_before_6h/cp.ckpt/assets\n"
          ],
          "name": "stdout"
        },
        {
          "output_type": "stream",
          "text": [
            "INFO:tensorflow:Assets written to: /content/drive/MyDrive/Colab Notebooks/with_jaewon/checkPoint/training_before_6h/cp.ckpt/assets\n"
          ],
          "name": "stderr"
        }
      ]
    },
    {
      "cell_type": "markdown",
      "metadata": {
        "id": "IoyU_xp6Ui5Q"
      },
      "source": [
        "# 1-2. Evaluation"
      ]
    },
    {
      "cell_type": "code",
      "metadata": {
        "id": "v5_6BH8z7Ixe",
        "colab": {
          "base_uri": "https://localhost:8080/"
        },
        "outputId": "e6ad2f11-dba0-41e3-9814-d1b4e4363905"
      },
      "source": [
        "# 평가\n",
        "\n",
        "mse_test = model.evaluate(X_test, y_test, batch_size=1)\n",
        "prediction = model.predict(X_test)\n",
        "\n",
        "print('Loss of Prediction 1hr before :', mse_test)"
      ],
      "execution_count": null,
      "outputs": [
        {
          "output_type": "stream",
          "text": [
            "52698/52698 [==============================] - 78s 1ms/step - loss: 0.0018\n",
            "Loss of Prediction 1hr before : 0.001823520171456039\n"
          ],
          "name": "stdout"
        }
      ]
    },
    {
      "cell_type": "code",
      "metadata": {
        "colab": {
          "base_uri": "https://localhost:8080/"
        },
        "id": "zKw5IiTgjORO",
        "outputId": "994f9ce3-1dda-49e0-8b1d-9b388f416b37"
      },
      "source": [
        "mse_test_3h = model_3h.evaluate(X_test_3h, y_test_3h, batch_size=1)\n",
        "prediction_3h = model_3h.predict(X_test_3h)\n",
        "\n",
        "print('Loss of prediction 3hr before :', mse_test_3h)"
      ],
      "execution_count": null,
      "outputs": [
        {
          "output_type": "stream",
          "text": [
            "52698/52698 [==============================] - 78s 1ms/step - loss: 0.0027\n",
            "Loss of prediction 3hr before : 0.0027062685694545507\n"
          ],
          "name": "stdout"
        }
      ]
    },
    {
      "cell_type": "code",
      "metadata": {
        "colab": {
          "base_uri": "https://localhost:8080/"
        },
        "id": "3U5HqUoQjUfI",
        "outputId": "74eee934-c2fa-413d-fee4-c512290570a5"
      },
      "source": [
        "mse_test_6h = model_6h.evaluate(X_test_6h, y_test_6h, batch_size=1)\n",
        "prediction_6h = model_6h.predict(X_test_6h)\n",
        "\n",
        "print('Loss of prediction 6hr before :', mse_test_6h)"
      ],
      "execution_count": null,
      "outputs": [
        {
          "output_type": "stream",
          "text": [
            "52698/52698 [==============================] - 78s 1ms/step - loss: 0.0019\n",
            "Loss of prediction 6hr before : 0.0018572304397821426\n"
          ],
          "name": "stdout"
        }
      ]
    },
    {
      "cell_type": "code",
      "metadata": {
        "id": "q6dTTMQrfVby",
        "colab": {
          "base_uri": "https://localhost:8080/",
          "height": 553
        },
        "outputId": "ab006fec-ef95-4b7b-e635-2d55bfa85f5f"
      },
      "source": [
        "# 손실 그래프\n",
        "\n",
        "loss = history.history['loss']\n",
        "val_loss = history.history['val_loss']\n",
        "\n",
        "epochs = range(1, len(loss)+1)\n",
        "\n",
        "plt.figure(figsize=(12, 9))\n",
        "\n",
        "plt.plot(epochs, loss, 'bo', label='Training loss')\n",
        "plt.plot(epochs, val_loss, 'b', label='Validation loss')\n",
        "plt.title('Training and validation loss')\n",
        "plt.legend()\n",
        "\n",
        "plt.show()"
      ],
      "execution_count": null,
      "outputs": [
        {
          "output_type": "display_data",
          "data": {
            "image/png": "[encoded data removed]",
            "text/plain": [
              "<Figure size 864x648 with 1 Axes>"
            ]
          },
          "metadata": {
            "tags": [],
            "needs_background": "light"
          }
        }
      ]
    },
    {
      "cell_type": "code",
      "metadata": {
        "colab": {
          "base_uri": "https://localhost:8080/",
          "height": 553
        },
        "id": "AKdxnSWRAH0y",
        "outputId": "8040c484-cc46-4127-fe3d-6821dd61a8e6"
      },
      "source": [
        "loss_3h = history_3h.history['loss']\n",
        "val_loss_3h = history_3h.history['val_loss']\n",
        "\n",
        "epochs = range(1, len(loss)+1)\n",
        "\n",
        "plt.figure(figsize=(12, 9))\n",
        "\n",
        "plt.plot(epochs, loss_3h, 'bo', label='Training loss')\n",
        "plt.plot(epochs, val_loss_3h, 'b', label='Validation loss')\n",
        "plt.title('Training and validation loss')\n",
        "plt.legend()\n",
        "\n",
        "plt.show()"
      ],
      "execution_count": null,
      "outputs": [
        {
          "output_type": "display_data",
          "data": {
            "image/png": "[encoded data removed]",
            "text/plain": [
              "<Figure size 864x648 with 1 Axes>"
            ]
          },
          "metadata": {
            "tags": [],
            "needs_background": "light"
          }
        }
      ]
    },
    {
      "cell_type": "code",
      "metadata": {
        "colab": {
          "base_uri": "https://localhost:8080/",
          "height": 553
        },
        "id": "e9zW-9jPAOdI",
        "outputId": "bbf9a9bb-a2ee-4d04-a0d9-3098d199f496"
      },
      "source": [
        "loss_6h = history_6h.history['loss']\n",
        "val_loss_6h = history_6h.history['val_loss']\n",
        "\n",
        "epochs = range(1, len(loss)+1)\n",
        "\n",
        "plt.figure(figsize=(12, 9))\n",
        "\n",
        "plt.plot(epochs, loss_6h, 'bo', label='Training loss')\n",
        "plt.plot(epochs, val_loss_6h, 'b', label='Validation loss')\n",
        "plt.title('Training and validation loss')\n",
        "plt.legend()\n",
        "\n",
        "plt.show()"
      ],
      "execution_count": null,
      "outputs": [
        {
          "output_type": "display_data",
          "data": {
            "image/png": "[encoded data removed]",
            "text/plain": [
              "<Figure size 864x648 with 1 Axes>"
            ]
          },
          "metadata": {
            "tags": [],
            "needs_background": "light"
          }
        }
      ]
    },
    {
      "cell_type": "markdown",
      "metadata": {
        "id": "z3_hTXEK62Yu"
      },
      "source": [
        "# 1-3. Result"
      ]
    },
    {
      "cell_type": "code",
      "metadata": {
        "id": "F3ZNrf5z7ECU",
        "colab": {
          "base_uri": "https://localhost:8080/",
          "height": 553
        },
        "outputId": "50015f94-f5b7-47c2-de8d-71752d66fac3"
      },
      "source": [
        "plt.figure(figsize=(12, 9))\n",
        "\n",
        "plt.plot(epochs, val_loss, 'b', label='1hr before ', color = 'red')\n",
        "plt.plot(epochs, val_loss_3h, 'b', label='3hr before ', color = 'blue')\n",
        "plt.plot(epochs, val_loss_6h, 'b', label='6hr before ', color = 'green')\n",
        "plt.title('Validation loss')\n",
        "plt.legend()\n",
        "\n",
        "plt.show()"
      ],
      "execution_count": null,
      "outputs": [
        {
          "output_type": "display_data",
          "data": {
            "image/png": "[encoded data removed]",
            "text/plain": [
              "<Figure size 864x648 with 1 Axes>"
            ]
          },
          "metadata": {
            "tags": [],
            "needs_background": "light"
          }
        }
      ]
    },
    {
      "cell_type": "code",
      "metadata": {
        "id": "D6GpVKED8NY9",
        "colab": {
          "base_uri": "https://localhost:8080/",
          "height": 553
        },
        "outputId": "e2690ecd-2d71-41e6-c675-971143f29693"
      },
      "source": [
        "plt.figure(figsize=(12,9))\n",
        "\n",
        "plt.plot(y_test, label='Actual', color='gray', lw=3)\n",
        "plt.plot(prediction, label='1hr before forcasted', color='red', ls='-')\n",
        "plt.plot(prediction_3h, label='3hr before forcasted', color='blue', linestyle='-')\n",
        "plt.plot(prediction_6h, label='6hr before forcasted', color='green', linestyle='-')\n",
        "plt.title('Water level')\n",
        "plt.legend()\n",
        "\n",
        "plt.show()"
      ],
      "execution_count": null,
      "outputs": [
        {
          "output_type": "display_data",
          "data": {
            "image/png": "[encoded data removed]",
            "text/plain": [
              "<Figure size 864x648 with 1 Axes>"
            ]
          },
          "metadata": {
            "tags": [],
            "needs_background": "light"
          }
        }
      ]
    },
    {
      "cell_type": "markdown",
      "metadata": {
        "id": "qbsReEDfg4O0"
      },
      "source": [
        "# 2-1. Trainning : SVR"
      ]
    },
    {
      "cell_type": "code",
      "metadata": {
        "colab": {
          "base_uri": "https://localhost:8080/",
          "height": 232
        },
        "id": "RfTW2CnNyEA_",
        "outputId": "e89a31c5-2d44-4127-a941-58d904d57dc0"
      },
      "source": [
        "scaler_svr = StandardScaler()\n",
        "df_svr = scaler_svr.fit_transform(df_scaled)\n",
        "\n",
        "X_df_svr = df_svr.drop(['HGR'], axis=1)\n",
        "y_df_svr = df_svr[['HGR']]\n",
        "\n",
        "\n",
        "X_train_svr = X_df_svr[:row]\n",
        "y_train_svr = y_df_svr[:row]\n",
        "X_test_svr = X_df_svr[row:]\n",
        "y_test_svr = y_df_svr[row:]\n",
        "\n",
        "X_train_svr, X_valid_svr, y_train_svr, y_valid_svr = train_test_split(X_train_svr, y_train_svr, test_size=0.2)\n",
        "\n",
        "X_train_svr.shape, y_train_svr.shape, X_test_svr.shape, y_test_svr.shape"
      ],
      "execution_count": null,
      "outputs": [
        {
          "output_type": "error",
          "ename": "NameError",
          "evalue": "ignored",
          "traceback": [
            "\u001b[0;31m---------------------------------------------------------------------------\u001b[0m",
            "\u001b[0;31mNameError\u001b[0m                                 Traceback (most recent call last)",
            "\u001b[0;32m<ipython-input-85-d60f4f98c2fc>\u001b[0m in \u001b[0;36m<module>\u001b[0;34m()\u001b[0m\n\u001b[1;32m      1\u001b[0m \u001b[0mscaler_svr\u001b[0m \u001b[0;34m=\u001b[0m \u001b[0mStandardScaler\u001b[0m\u001b[0;34m(\u001b[0m\u001b[0;34m)\u001b[0m\u001b[0;34m\u001b[0m\u001b[0;34m\u001b[0m\u001b[0m\n\u001b[0;32m----> 2\u001b[0;31m \u001b[0mdf_svr\u001b[0m \u001b[0;34m=\u001b[0m \u001b[0mDataFrame\u001b[0m\u001b[0;34m(\u001b[0m\u001b[0mscaler_svr\u001b[0m\u001b[0;34m.\u001b[0m\u001b[0mfit_transform\u001b[0m\u001b[0;34m(\u001b[0m\u001b[0mdf_scaled\u001b[0m\u001b[0;34m)\u001b[0m\u001b[0;34m)\u001b[0m\u001b[0;34m\u001b[0m\u001b[0;34m\u001b[0m\u001b[0m\n\u001b[0m\u001b[1;32m      3\u001b[0m \u001b[0;34m\u001b[0m\u001b[0m\n\u001b[1;32m      4\u001b[0m \u001b[0mX_df_svr\u001b[0m \u001b[0;34m=\u001b[0m \u001b[0mdf_svr\u001b[0m\u001b[0;34m.\u001b[0m\u001b[0mdrop\u001b[0m\u001b[0;34m(\u001b[0m\u001b[0;34m[\u001b[0m\u001b[0;34m'HGR'\u001b[0m\u001b[0;34m]\u001b[0m\u001b[0;34m,\u001b[0m \u001b[0maxis\u001b[0m\u001b[0;34m=\u001b[0m\u001b[0;36m1\u001b[0m\u001b[0;34m)\u001b[0m\u001b[0;34m\u001b[0m\u001b[0;34m\u001b[0m\u001b[0m\n\u001b[1;32m      5\u001b[0m \u001b[0my_df_svr\u001b[0m \u001b[0;34m=\u001b[0m \u001b[0mdf_svr\u001b[0m\u001b[0;34m[\u001b[0m\u001b[0;34m[\u001b[0m\u001b[0;34m'HGR'\u001b[0m\u001b[0;34m]\u001b[0m\u001b[0;34m]\u001b[0m\u001b[0;34m\u001b[0m\u001b[0;34m\u001b[0m\u001b[0m\n",
            "\u001b[0;31mNameError\u001b[0m: name 'DataFrame' is not defined"
          ]
        }
      ]
    },
    {
      "cell_type": "code",
      "metadata": {
        "id": "HkEzAY2ZgS8N",
        "colab": {
          "base_uri": "https://localhost:8080/",
          "height": 181
        },
        "outputId": "85a198fc-4585-44b1-fac1-df166f6a2825"
      },
      "source": [
        "model_svr = make_pipeline(StandardScaler(), SVR(C=0.01, epsilon=0.2))\n",
        "history_svr = model_svr.fit(X_train_svr, y_train_svr)"
      ],
      "execution_count": null,
      "outputs": [
        {
          "output_type": "error",
          "ename": "NameError",
          "evalue": "ignored",
          "traceback": [
            "\u001b[0;31m---------------------------------------------------------------------------\u001b[0m",
            "\u001b[0;31mNameError\u001b[0m                                 Traceback (most recent call last)",
            "\u001b[0;32m<ipython-input-82-c062673bfa38>\u001b[0m in \u001b[0;36m<module>\u001b[0;34m()\u001b[0m\n\u001b[0;32m----> 1\u001b[0;31m \u001b[0mmodel_svr\u001b[0m \u001b[0;34m=\u001b[0m \u001b[0mmake_pipeline\u001b[0m\u001b[0;34m(\u001b[0m\u001b[0mStandardScaler\u001b[0m\u001b[0;34m(\u001b[0m\u001b[0;34m)\u001b[0m\u001b[0;34m,\u001b[0m \u001b[0mSVR\u001b[0m\u001b[0;34m(\u001b[0m\u001b[0mC\u001b[0m\u001b[0;34m=\u001b[0m\u001b[0;36m0.01\u001b[0m\u001b[0;34m,\u001b[0m \u001b[0mepsilon\u001b[0m\u001b[0;34m=\u001b[0m\u001b[0;36m0.2\u001b[0m\u001b[0;34m)\u001b[0m\u001b[0;34m)\u001b[0m\u001b[0;34m\u001b[0m\u001b[0;34m\u001b[0m\u001b[0m\n\u001b[0m\u001b[1;32m      2\u001b[0m \u001b[0mhistory_svr\u001b[0m \u001b[0;34m=\u001b[0m \u001b[0mmodel_svr\u001b[0m\u001b[0;34m.\u001b[0m\u001b[0mfit\u001b[0m\u001b[0;34m(\u001b[0m\u001b[0mX_train_svr\u001b[0m\u001b[0;34m,\u001b[0m \u001b[0my_train_svr\u001b[0m\u001b[0;34m)\u001b[0m\u001b[0;34m\u001b[0m\u001b[0;34m\u001b[0m\u001b[0m\n",
            "\u001b[0;31mNameError\u001b[0m: name 'make_pipeline' is not defined"
          ]
        }
      ]
    },
    {
      "cell_type": "markdown",
      "metadata": {
        "id": "filzwXBPjx9u"
      },
      "source": [
        "# 2-2. Evaluation"
      ]
    },
    {
      "cell_type": "code",
      "metadata": {
        "id": "L_owsEJ5j38W"
      },
      "source": [
        "mse_svr = model_svr.evaluate(X_test_svr, y_test_svr, batch_size=1)\n",
        "prediction = model_svr.predict(X_test_svr)\n",
        "\n",
        "print('Loss of Prediction 1hr before :', mse_svr)"
      ],
      "execution_count": null,
      "outputs": []
    },
    {
      "cell_type": "code",
      "metadata": {
        "id": "39GYJgJyj8g3"
      },
      "source": [
        "loss_svr = history_svr.history['loss']\n",
        "val_loss_svr = history_svr.history['val_loss']\n",
        "\n",
        "epochs = range(1, len(loss_svr)+1)\n",
        "\n",
        "plt.figure(figsize=(12, 9))\n",
        "\n",
        "plt.plot(epochs, loss, 'bo', label='Training loss')\n",
        "plt.plot(epochs, val_loss, 'b', label='Validation loss')\n",
        "plt.title('Training and validation loss')\n",
        "plt.legend()\n",
        "\n",
        "plt.show()"
      ],
      "execution_count": null,
      "outputs": []
    },
    {
      "cell_type": "markdown",
      "metadata": {
        "id": "k9vT6cuqqyqa"
      },
      "source": [
        "# 2-3. Training : MLP"
      ]
    }
  ]
}